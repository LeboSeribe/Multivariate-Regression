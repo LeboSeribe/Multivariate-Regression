{
 "cells": [
  {
   "cell_type": "markdown",
   "metadata": {},
   "source": [
    "# Multivariate Linear Regression"
   ]
  },
  {
   "cell_type": "markdown",
   "metadata": {},
   "source": [
    "### Import packages "
   ]
  },
  {
   "cell_type": "code",
   "execution_count": 92,
   "metadata": {},
   "outputs": [],
   "source": [
    "import pandas as pd\n",
    "import seaborn as sns\n",
    "import pandas as pd\n",
    "import matplotlib.pyplot as plt\n",
    "from pandas.plotting import scatter_matrix\n",
    "%matplotlib inline\n",
    "import statsmodels\n",
    "from scipy.stats import iqr\n",
    "from sklearn.model_selection import train_test_split\n",
    "from scipy import stats\n",
    "from scipy.stats import pearsonr\n",
    "import statsmodels.api as sm\n",
    "from sklearn.metrics import mean_squared_error\n",
    "from math import sqrt"
   ]
  },
  {
   "cell_type": "markdown",
   "metadata": {},
   "source": [
    "### Import Data"
   ]
  },
  {
   "cell_type": "code",
   "execution_count": 93,
   "metadata": {},
   "outputs": [],
   "source": [
    "data = pd.read_csv('salary.csv')"
   ]
  },
  {
   "cell_type": "markdown",
   "metadata": {},
   "source": [
    "### Exploring Data"
   ]
  },
  {
   "cell_type": "code",
   "execution_count": 94,
   "metadata": {},
   "outputs": [
    {
     "data": {
      "text/plain": [
       "salary         1\n",
       "exprior        0\n",
       "yearsworked    0\n",
       "yearsrank      0\n",
       "market         0\n",
       "degree         0\n",
       "otherqual      0\n",
       "position       0\n",
       "male           0\n",
       "Field          0\n",
       "yearsabs       0\n",
       "dtype: int64"
      ]
     },
     "execution_count": 94,
     "metadata": {},
     "output_type": "execute_result"
    }
   ],
   "source": [
    "data.isnull().sum()"
   ]
  },
  {
   "cell_type": "markdown",
   "metadata": {},
   "source": [
    "*There is only one missing value in salary*"
   ]
  },
  {
   "cell_type": "markdown",
   "metadata": {},
   "source": [
    "### Filling in null values and dropping duplicates"
   ]
  },
  {
   "cell_type": "code",
   "execution_count": 95,
   "metadata": {},
   "outputs": [],
   "source": [
    "data['salary'].fillna(data['salary'].mean(),inplace = True)\n",
    "data = data.drop_duplicates()"
   ]
  },
  {
   "cell_type": "markdown",
   "metadata": {},
   "source": [
    "### Splitting the data"
   ]
  },
  {
   "cell_type": "code",
   "execution_count": 96,
   "metadata": {},
   "outputs": [],
   "source": [
    "y = data.salary\n",
    "x = data\n",
    "x_train,x_test,y_train,y_test = train_test_split(x,y,test_size=0.3,random_state=0)"
   ]
  },
  {
   "cell_type": "markdown",
   "metadata": {},
   "source": [
    "*Now that we have split the data and our target feature is salary, \n",
    "lets look at features that are highly correlated with salary.*"
   ]
  },
  {
   "cell_type": "code",
   "execution_count": 97,
   "metadata": {},
   "outputs": [
    {
     "data": {
      "text/plain": [
       "salary         1.000000\n",
       "exprior        0.126978\n",
       "yearsworked    0.606048\n",
       "yearsrank      0.613583\n",
       "market         0.396942\n",
       "degree         0.031467\n",
       "otherqual      0.195508\n",
       "position       0.711832\n",
       "male           0.345277\n",
       "Field         -0.503231\n",
       "yearsabs      -0.089951\n",
       "Name: salary, dtype: float64"
      ]
     },
     "execution_count": 97,
     "metadata": {},
     "output_type": "execute_result"
    }
   ],
   "source": [
    "data_corr = x_train.corr().iloc[:,0]\n",
    "data_corr"
   ]
  },
  {
   "cell_type": "markdown",
   "metadata": {},
   "source": [
    "Features withe the strongest correlation ( > |0.45|)"
   ]
  },
  {
   "cell_type": "code",
   "execution_count": 98,
   "metadata": {},
   "outputs": [
    {
     "data": {
      "text/plain": [
       "salary         1.000000\n",
       "position       0.711832\n",
       "yearsrank      0.613583\n",
       "yearsworked    0.606048\n",
       "Field         -0.503231\n",
       "Name: salary, dtype: float64"
      ]
     },
     "execution_count": 98,
     "metadata": {},
     "output_type": "execute_result"
    }
   ],
   "source": [
    "strong_data = data_corr[abs(data_corr) > 0.45].sort_values(ascending=False)\n",
    "strong_data"
   ]
  },
  {
   "cell_type": "markdown",
   "metadata": {},
   "source": [
    "*The features of interest with regard to salary are:*\n",
    "- Years worked in this field\n",
    "- Years worked at current rank \n",
    "- Position\n",
    "- Field of work\n",
    "\n",
    "*as they have the higher correlation*"
   ]
  },
  {
   "cell_type": "markdown",
   "metadata": {},
   "source": [
    "*We further need to see if the relationships are significant.* "
   ]
  },
  {
   "cell_type": "markdown",
   "metadata": {},
   "source": [
    "### Descriptive table"
   ]
  },
  {
   "cell_type": "code",
   "execution_count": 99,
   "metadata": {},
   "outputs": [
    {
     "data": {
      "text/html": [
       "<div>\n",
       "<style scoped>\n",
       "    .dataframe tbody tr th:only-of-type {\n",
       "        vertical-align: middle;\n",
       "    }\n",
       "\n",
       "    .dataframe tbody tr th {\n",
       "        vertical-align: top;\n",
       "    }\n",
       "\n",
       "    .dataframe thead th {\n",
       "        text-align: right;\n",
       "    }\n",
       "</style>\n",
       "<table border=\"1\" class=\"dataframe\">\n",
       "  <thead>\n",
       "    <tr style=\"text-align: right;\">\n",
       "      <th></th>\n",
       "      <th>salary</th>\n",
       "      <th>yearsworked</th>\n",
       "      <th>yearsrank</th>\n",
       "      <th>position</th>\n",
       "      <th>Field</th>\n",
       "    </tr>\n",
       "  </thead>\n",
       "  <tbody>\n",
       "    <tr>\n",
       "      <td>count</td>\n",
       "      <td>514.000000</td>\n",
       "      <td>514.000000</td>\n",
       "      <td>514.000000</td>\n",
       "      <td>514.000000</td>\n",
       "      <td>514.000000</td>\n",
       "    </tr>\n",
       "    <tr>\n",
       "      <td>mean</td>\n",
       "      <td>50863.220098</td>\n",
       "      <td>12.852140</td>\n",
       "      <td>7.052529</td>\n",
       "      <td>2.132296</td>\n",
       "      <td>2.529183</td>\n",
       "    </tr>\n",
       "    <tr>\n",
       "      <td>std</td>\n",
       "      <td>12672.762650</td>\n",
       "      <td>9.444695</td>\n",
       "      <td>6.414771</td>\n",
       "      <td>0.820075</td>\n",
       "      <td>1.127420</td>\n",
       "    </tr>\n",
       "    <tr>\n",
       "      <td>min</td>\n",
       "      <td>29000.000000</td>\n",
       "      <td>0.000000</td>\n",
       "      <td>0.000000</td>\n",
       "      <td>1.000000</td>\n",
       "      <td>1.000000</td>\n",
       "    </tr>\n",
       "    <tr>\n",
       "      <td>25%</td>\n",
       "      <td>40000.000000</td>\n",
       "      <td>4.000000</td>\n",
       "      <td>2.000000</td>\n",
       "      <td>1.000000</td>\n",
       "      <td>2.000000</td>\n",
       "    </tr>\n",
       "    <tr>\n",
       "      <td>50%</td>\n",
       "      <td>50165.500000</td>\n",
       "      <td>12.000000</td>\n",
       "      <td>5.000000</td>\n",
       "      <td>2.000000</td>\n",
       "      <td>3.000000</td>\n",
       "    </tr>\n",
       "    <tr>\n",
       "      <td>75%</td>\n",
       "      <td>60306.250000</td>\n",
       "      <td>22.000000</td>\n",
       "      <td>12.000000</td>\n",
       "      <td>3.000000</td>\n",
       "      <td>4.000000</td>\n",
       "    </tr>\n",
       "    <tr>\n",
       "      <td>max</td>\n",
       "      <td>96156.000000</td>\n",
       "      <td>41.000000</td>\n",
       "      <td>28.000000</td>\n",
       "      <td>3.000000</td>\n",
       "      <td>4.000000</td>\n",
       "    </tr>\n",
       "  </tbody>\n",
       "</table>\n",
       "</div>"
      ],
      "text/plain": [
       "             salary  yearsworked   yearsrank    position       Field\n",
       "count    514.000000   514.000000  514.000000  514.000000  514.000000\n",
       "mean   50863.220098    12.852140    7.052529    2.132296    2.529183\n",
       "std    12672.762650     9.444695    6.414771    0.820075    1.127420\n",
       "min    29000.000000     0.000000    0.000000    1.000000    1.000000\n",
       "25%    40000.000000     4.000000    2.000000    1.000000    2.000000\n",
       "50%    50165.500000    12.000000    5.000000    2.000000    3.000000\n",
       "75%    60306.250000    22.000000   12.000000    3.000000    4.000000\n",
       "max    96156.000000    41.000000   28.000000    3.000000    4.000000"
      ]
     },
     "execution_count": 99,
     "metadata": {},
     "output_type": "execute_result"
    }
   ],
   "source": [
    "data_num.describe()"
   ]
  },
  {
   "cell_type": "markdown",
   "metadata": {},
   "source": [
    "### Histograms"
   ]
  },
  {
   "cell_type": "code",
   "execution_count": 100,
   "metadata": {},
   "outputs": [
    {
     "data": {
      "text/plain": [
       "array([[<matplotlib.axes._subplots.AxesSubplot object at 0x7fb25d1f3450>,\n",
       "        <matplotlib.axes._subplots.AxesSubplot object at 0x7fb25d316310>],\n",
       "       [<matplotlib.axes._subplots.AxesSubplot object at 0x7fb25d215790>,\n",
       "        <matplotlib.axes._subplots.AxesSubplot object at 0x7fb25d013f50>],\n",
       "       [<matplotlib.axes._subplots.AxesSubplot object at 0x7fb25d02a790>,\n",
       "        <matplotlib.axes._subplots.AxesSubplot object at 0x7fb25d03cf90>]],\n",
       "      dtype=object)"
      ]
     },
     "execution_count": 100,
     "metadata": {},
     "output_type": "execute_result"
    },
    {
     "data": {
      "image/png": "[encoded data removed]",
      "text/plain": [
       "<Figure size 1152x1440 with 6 Axes>"
      ]
     },
     "metadata": {
      "needs_background": "light"
     },
     "output_type": "display_data"
    }
   ],
   "source": [
    "data_num.hist(figsize=(16, 20),bins=20, xlabelsize=8, ylabelsize=8)"
   ]
  },
  {
   "cell_type": "markdown",
   "metadata": {},
   "source": [
    "*From the above histograms of the features of interest it is clear that Position and Field are categorical data.*\n",
    "- Salary \n",
    "    - There are possible outliers\n",
    "    - it is skewed to the right \n",
    "    - A lot of individuals earn between 33000 dollars & 75000 dollars\n",
    "\n",
    "\n",
    "- Years worked in this field\n",
    "    - There are possible outliers\n",
    "    -i t is skewed to the right\n",
    "    - A lot of individuals have worked between 0 years & 29 years\n",
    "    \n",
    "\n",
    "- Years worked at current rank\n",
    "    - It is skewed to the right\n",
    "    - There are possible outliers\n",
    "    - Most individuals have worked at the current rank for years between 0 & 5 years.\n",
    "    "
   ]
  },
  {
   "cell_type": "markdown",
   "metadata": {},
   "source": [
    "### Scatter plots"
   ]
  },
  {
   "cell_type": "code",
   "execution_count": 101,
   "metadata": {},
   "outputs": [
    {
     "data": {
      "text/plain": [
       "array([[<matplotlib.axes._subplots.AxesSubplot object at 0x7fb25d1f3d10>,\n",
       "        <matplotlib.axes._subplots.AxesSubplot object at 0x7fb25ce97dd0>,\n",
       "        <matplotlib.axes._subplots.AxesSubplot object at 0x7fb25ce44610>,\n",
       "        <matplotlib.axes._subplots.AxesSubplot object at 0x7fb25ce78e10>,\n",
       "        <matplotlib.axes._subplots.AxesSubplot object at 0x7fb25ce37650>],\n",
       "       [<matplotlib.axes._subplots.AxesSubplot object at 0x7fb25cdece10>,\n",
       "        <matplotlib.axes._subplots.AxesSubplot object at 0x7fb25cdae650>,\n",
       "        <matplotlib.axes._subplots.AxesSubplot object at 0x7fb25cd61e50>,\n",
       "        <matplotlib.axes._subplots.AxesSubplot object at 0x7fb25cd6a990>,\n",
       "        <matplotlib.axes._subplots.AxesSubplot object at 0x7fb25cd2e350>],\n",
       "       [<matplotlib.axes._subplots.AxesSubplot object at 0x7fb25cc966d0>,\n",
       "        <matplotlib.axes._subplots.AxesSubplot object at 0x7fb25cc4bed0>,\n",
       "        <matplotlib.axes._subplots.AxesSubplot object at 0x7fb25dbe7810>,\n",
       "        <matplotlib.axes._subplots.AxesSubplot object at 0x7fb25df9f5d0>,\n",
       "        <matplotlib.axes._subplots.AxesSubplot object at 0x7fb25eb6ef10>],\n",
       "       [<matplotlib.axes._subplots.AxesSubplot object at 0x7fb25f7205d0>,\n",
       "        <matplotlib.axes._subplots.AxesSubplot object at 0x7fb25cc13e50>,\n",
       "        <matplotlib.axes._subplots.AxesSubplot object at 0x7fb25cbc8b50>,\n",
       "        <matplotlib.axes._subplots.AxesSubplot object at 0x7fb25cb86e90>,\n",
       "        <matplotlib.axes._subplots.AxesSubplot object at 0x7fb25cbbcb90>],\n",
       "       [<matplotlib.axes._subplots.AxesSubplot object at 0x7fb25cb7aed0>,\n",
       "        <matplotlib.axes._subplots.AxesSubplot object at 0x7fb25cb30bd0>,\n",
       "        <matplotlib.axes._subplots.AxesSubplot object at 0x7fb25caeef10>,\n",
       "        <matplotlib.axes._subplots.AxesSubplot object at 0x7fb25caa4c10>,\n",
       "        <matplotlib.axes._subplots.AxesSubplot object at 0x7fb25ca62f50>]],\n",
       "      dtype=object)"
      ]
     },
     "execution_count": 101,
     "metadata": {},
     "output_type": "execute_result"
    },
    {
     "data": {
      "image/png": "[encoded data removed]",
      "text/plain": [
       "<Figure size 720x720 with 25 Axes>"
      ]
     },
     "metadata": {
      "needs_background": "light"
     },
     "output_type": "display_data"
    }
   ],
   "source": [
    "scatter_matrix(data_num, alpha=0.2, figsize=(10, 10))"
   ]
  },
  {
   "cell_type": "markdown",
   "metadata": {},
   "source": [
    "*Looking at the above scatter matrix:*\n",
    "- The first row from top of the matrix\n",
    "    - It shows the realtionship of salary with other features of interest.\n",
    "        - There is a linear relationship between salary & years worked in the current field.\n",
    "        - There is a linear relationship between salary & Years worked at current rank.\n",
    "        - There is no defined relationship with salary for position and Field.\n",
    "- The matrix can be used to see if there is a relationship amongst the features other than the relationship with salary \n",
    "    "
   ]
  },
  {
   "cell_type": "markdown",
   "metadata": {},
   "source": [
    "*The Field feature and Position feature are categorical. We therefore have to transorm the data.*"
   ]
  },
  {
   "cell_type": "markdown",
   "metadata": {},
   "source": [
    "### Transforming data (get_dummies)"
   ]
  },
  {
   "cell_type": "code",
   "execution_count": 102,
   "metadata": {
    "scrolled": true
   },
   "outputs": [],
   "source": [
    "dict1 = {1:'Engineering', 2:'Finance', 3:'Human Resources', 4:'Marketing'}\n",
    "data['Field'] = data.Field.map(dict1)\n",
    "dict2 ={0:'female', 1: 'male'}\n",
    "data['male'] =data.male.map(dict2)\n",
    "dict3={1:'Junior', 2:'Manager', 3:'Executive'}\n",
    "data['position']=data.position.map(dict3)\n",
    "dict4 ={0:'no other qual', 1:'yes other qual'}\n",
    "data['otherqual'] = data.otherqual.map(dict4)\n",
    "dict5 = {0:'no degree', 1:'yes degree'}\n",
    "data['degree']= data.degree.map(dict5)\n",
    "data = pd.get_dummies(data, prefix_sep='_', drop_first=True)\n"
   ]
  },
  {
   "cell_type": "code",
   "execution_count": 103,
   "metadata": {},
   "outputs": [
    {
     "name": "stderr",
     "output_type": "stream",
     "text": [
      "/home/olebogeng/anaconda3/lib/python3.7/site-packages/ipykernel_launcher.py:2: SettingWithCopyWarning: \n",
      "A value is trying to be set on a copy of a slice from a DataFrame.\n",
      "Try using .loc[row_indexer,col_indexer] = value instead\n",
      "\n",
      "See the caveats in the documentation: http://pandas.pydata.org/pandas-docs/stable/user_guide/indexing.html#returning-a-view-versus-a-copy\n",
      "  \n",
      "/home/olebogeng/anaconda3/lib/python3.7/site-packages/ipykernel_launcher.py:4: SettingWithCopyWarning: \n",
      "A value is trying to be set on a copy of a slice from a DataFrame.\n",
      "Try using .loc[row_indexer,col_indexer] = value instead\n",
      "\n",
      "See the caveats in the documentation: http://pandas.pydata.org/pandas-docs/stable/user_guide/indexing.html#returning-a-view-versus-a-copy\n",
      "  after removing the cwd from sys.path.\n",
      "/home/olebogeng/anaconda3/lib/python3.7/site-packages/ipykernel_launcher.py:6: SettingWithCopyWarning: \n",
      "A value is trying to be set on a copy of a slice from a DataFrame.\n",
      "Try using .loc[row_indexer,col_indexer] = value instead\n",
      "\n",
      "See the caveats in the documentation: http://pandas.pydata.org/pandas-docs/stable/user_guide/indexing.html#returning-a-view-versus-a-copy\n",
      "  \n",
      "/home/olebogeng/anaconda3/lib/python3.7/site-packages/ipykernel_launcher.py:8: SettingWithCopyWarning: \n",
      "A value is trying to be set on a copy of a slice from a DataFrame.\n",
      "Try using .loc[row_indexer,col_indexer] = value instead\n",
      "\n",
      "See the caveats in the documentation: http://pandas.pydata.org/pandas-docs/stable/user_guide/indexing.html#returning-a-view-versus-a-copy\n",
      "  \n",
      "/home/olebogeng/anaconda3/lib/python3.7/site-packages/ipykernel_launcher.py:10: SettingWithCopyWarning: \n",
      "A value is trying to be set on a copy of a slice from a DataFrame.\n",
      "Try using .loc[row_indexer,col_indexer] = value instead\n",
      "\n",
      "See the caveats in the documentation: http://pandas.pydata.org/pandas-docs/stable/user_guide/indexing.html#returning-a-view-versus-a-copy\n",
      "  # Remove the CWD from sys.path while we load stuff.\n"
     ]
    }
   ],
   "source": [
    "dict1 = {1:'Engineering', 2:'Finance', 3:'Human Resources', 4:'Marketing'}\n",
    "x_train['Field'] = x_train.Field.map(dict1)\n",
    "dict2 ={0:'female', 1: 'male'}\n",
    "x_train['male'] =x_train.male.map(dict2)\n",
    "dict3={1:'Junior', 2:'Manager', 3:'Executive'}\n",
    "x_train['position']=x_train.position.map(dict3)\n",
    "dict4 ={0:'no other qual', 1:'yes other qual'}\n",
    "x_train['otherqual'] = x_train.otherqual.map(dict4)\n",
    "dict5 = {0:'no degree', 1:'yes degree'}\n",
    "x_train['degree']= x_train.degree.map(dict5)\n"
   ]
  },
  {
   "cell_type": "code",
   "execution_count": 108,
   "metadata": {},
   "outputs": [],
   "source": [
    "x_train1 = pd.get_dummies(x_train, prefix_sep='_', drop_first=True)"
   ]
  },
  {
   "cell_type": "code",
   "execution_count": 109,
   "metadata": {},
   "outputs": [],
   "source": [
    "desired_features = x_train1[['salary','yearsworked','yearsrank','market','position_Junior','position_Manager','Field_Finance','Field_Marketing','Field_Human Resources']]"
   ]
  },
  {
   "cell_type": "code",
   "execution_count": 110,
   "metadata": {},
   "outputs": [
    {
     "data": {
      "text/html": [
       "<style  type=\"text/css\" >\n",
       "    #T_091dccdc_54ae_11ea_a8e1_81ef79762d40row0_col0 {\n",
       "            background-color:  #3f007d;\n",
       "            color:  #f1f1f1;\n",
       "        }    #T_091dccdc_54ae_11ea_a8e1_81ef79762d40row0_col1 {\n",
       "            background-color:  #694fa2;\n",
       "            color:  #f1f1f1;\n",
       "        }    #T_091dccdc_54ae_11ea_a8e1_81ef79762d40row0_col2 {\n",
       "            background-color:  #6f5ba8;\n",
       "            color:  #f1f1f1;\n",
       "        }    #T_091dccdc_54ae_11ea_a8e1_81ef79762d40row0_col3 {\n",
       "            background-color:  #9c98c7;\n",
       "            color:  #000000;\n",
       "        }    #T_091dccdc_54ae_11ea_a8e1_81ef79762d40row0_col4 {\n",
       "            background-color:  #f8f7fb;\n",
       "            color:  #000000;\n",
       "        }    #T_091dccdc_54ae_11ea_a8e1_81ef79762d40row0_col5 {\n",
       "            background-color:  #eae9f3;\n",
       "            color:  #000000;\n",
       "        }    #T_091dccdc_54ae_11ea_a8e1_81ef79762d40row0_col6 {\n",
       "            background-color:  #b3b3d6;\n",
       "            color:  #000000;\n",
       "        }    #T_091dccdc_54ae_11ea_a8e1_81ef79762d40row0_col7 {\n",
       "            background-color:  #f3f2f8;\n",
       "            color:  #000000;\n",
       "        }    #T_091dccdc_54ae_11ea_a8e1_81ef79762d40row0_col8 {\n",
       "            background-color:  #fcfbfd;\n",
       "            color:  #000000;\n",
       "        }    #T_091dccdc_54ae_11ea_a8e1_81ef79762d40row1_col0 {\n",
       "            background-color:  #6b53a4;\n",
       "            color:  #f1f1f1;\n",
       "        }    #T_091dccdc_54ae_11ea_a8e1_81ef79762d40row1_col1 {\n",
       "            background-color:  #3f007d;\n",
       "            color:  #f1f1f1;\n",
       "        }    #T_091dccdc_54ae_11ea_a8e1_81ef79762d40row1_col2 {\n",
       "            background-color:  #53258e;\n",
       "            color:  #f1f1f1;\n",
       "        }    #T_091dccdc_54ae_11ea_a8e1_81ef79762d40row1_col3 {\n",
       "            background-color:  #eeecf5;\n",
       "            color:  #000000;\n",
       "        }    #T_091dccdc_54ae_11ea_a8e1_81ef79762d40row1_col4 {\n",
       "            background-color:  #fcfbfd;\n",
       "            color:  #000000;\n",
       "        }    #T_091dccdc_54ae_11ea_a8e1_81ef79762d40row1_col5 {\n",
       "            background-color:  #dcdcec;\n",
       "            color:  #000000;\n",
       "        }    #T_091dccdc_54ae_11ea_a8e1_81ef79762d40row1_col6 {\n",
       "            background-color:  #bebedd;\n",
       "            color:  #000000;\n",
       "        }    #T_091dccdc_54ae_11ea_a8e1_81ef79762d40row1_col7 {\n",
       "            background-color:  #eae9f3;\n",
       "            color:  #000000;\n",
       "        }    #T_091dccdc_54ae_11ea_a8e1_81ef79762d40row1_col8 {\n",
       "            background-color:  #efedf5;\n",
       "            color:  #000000;\n",
       "        }    #T_091dccdc_54ae_11ea_a8e1_81ef79762d40row2_col0 {\n",
       "            background-color:  #6a51a3;\n",
       "            color:  #f1f1f1;\n",
       "        }    #T_091dccdc_54ae_11ea_a8e1_81ef79762d40row2_col1 {\n",
       "            background-color:  #50208c;\n",
       "            color:  #f1f1f1;\n",
       "        }    #T_091dccdc_54ae_11ea_a8e1_81ef79762d40row2_col2 {\n",
       "            background-color:  #3f007d;\n",
       "            color:  #f1f1f1;\n",
       "        }    #T_091dccdc_54ae_11ea_a8e1_81ef79762d40row2_col3 {\n",
       "            background-color:  #e8e6f2;\n",
       "            color:  #000000;\n",
       "        }    #T_091dccdc_54ae_11ea_a8e1_81ef79762d40row2_col4 {\n",
       "            background-color:  #edebf4;\n",
       "            color:  #000000;\n",
       "        }    #T_091dccdc_54ae_11ea_a8e1_81ef79762d40row2_col5 {\n",
       "            background-color:  #dedded;\n",
       "            color:  #000000;\n",
       "        }    #T_091dccdc_54ae_11ea_a8e1_81ef79762d40row2_col6 {\n",
       "            background-color:  #b8b8d9;\n",
       "            color:  #000000;\n",
       "        }    #T_091dccdc_54ae_11ea_a8e1_81ef79762d40row2_col7 {\n",
       "            background-color:  #eceaf3;\n",
       "            color:  #000000;\n",
       "        }    #T_091dccdc_54ae_11ea_a8e1_81ef79762d40row2_col8 {\n",
       "            background-color:  #f1eff6;\n",
       "            color:  #000000;\n",
       "        }    #T_091dccdc_54ae_11ea_a8e1_81ef79762d40row3_col0 {\n",
       "            background-color:  #8481bc;\n",
       "            color:  #000000;\n",
       "        }    #T_091dccdc_54ae_11ea_a8e1_81ef79762d40row3_col1 {\n",
       "            background-color:  #c6c7e1;\n",
       "            color:  #000000;\n",
       "        }    #T_091dccdc_54ae_11ea_a8e1_81ef79762d40row3_col2 {\n",
       "            background-color:  #d8d8ea;\n",
       "            color:  #000000;\n",
       "        }    #T_091dccdc_54ae_11ea_a8e1_81ef79762d40row3_col3 {\n",
       "            background-color:  #3f007d;\n",
       "            color:  #f1f1f1;\n",
       "        }    #T_091dccdc_54ae_11ea_a8e1_81ef79762d40row3_col4 {\n",
       "            background-color:  #babadb;\n",
       "            color:  #000000;\n",
       "        }    #T_091dccdc_54ae_11ea_a8e1_81ef79762d40row3_col5 {\n",
       "            background-color:  #d4d4e8;\n",
       "            color:  #000000;\n",
       "        }    #T_091dccdc_54ae_11ea_a8e1_81ef79762d40row3_col6 {\n",
       "            background-color:  #c4c5e0;\n",
       "            color:  #000000;\n",
       "        }    #T_091dccdc_54ae_11ea_a8e1_81ef79762d40row3_col7 {\n",
       "            background-color:  #e0e0ee;\n",
       "            color:  #000000;\n",
       "        }    #T_091dccdc_54ae_11ea_a8e1_81ef79762d40row3_col8 {\n",
       "            background-color:  #edebf4;\n",
       "            color:  #000000;\n",
       "        }    #T_091dccdc_54ae_11ea_a8e1_81ef79762d40row4_col0 {\n",
       "            background-color:  #fcfbfd;\n",
       "            color:  #000000;\n",
       "        }    #T_091dccdc_54ae_11ea_a8e1_81ef79762d40row4_col1 {\n",
       "            background-color:  #fcfbfd;\n",
       "            color:  #000000;\n",
       "        }    #T_091dccdc_54ae_11ea_a8e1_81ef79762d40row4_col2 {\n",
       "            background-color:  #fcfbfd;\n",
       "            color:  #000000;\n",
       "        }    #T_091dccdc_54ae_11ea_a8e1_81ef79762d40row4_col3 {\n",
       "            background-color:  #e3e2ef;\n",
       "            color:  #000000;\n",
       "        }    #T_091dccdc_54ae_11ea_a8e1_81ef79762d40row4_col4 {\n",
       "            background-color:  #3f007d;\n",
       "            color:  #f1f1f1;\n",
       "        }    #T_091dccdc_54ae_11ea_a8e1_81ef79762d40row4_col5 {\n",
       "            background-color:  #fcfbfd;\n",
       "            color:  #000000;\n",
       "        }    #T_091dccdc_54ae_11ea_a8e1_81ef79762d40row4_col6 {\n",
       "            background-color:  #efedf5;\n",
       "            color:  #000000;\n",
       "        }    #T_091dccdc_54ae_11ea_a8e1_81ef79762d40row4_col7 {\n",
       "            background-color:  #c1c2df;\n",
       "            color:  #000000;\n",
       "        }    #T_091dccdc_54ae_11ea_a8e1_81ef79762d40row4_col8 {\n",
       "            background-color:  #acaad1;\n",
       "            color:  #000000;\n",
       "        }    #T_091dccdc_54ae_11ea_a8e1_81ef79762d40row5_col0 {\n",
       "            background-color:  #e0dfee;\n",
       "            color:  #000000;\n",
       "        }    #T_091dccdc_54ae_11ea_a8e1_81ef79762d40row5_col1 {\n",
       "            background-color:  #c9c9e2;\n",
       "            color:  #000000;\n",
       "        }    #T_091dccdc_54ae_11ea_a8e1_81ef79762d40row5_col2 {\n",
       "            background-color:  #e2e2ef;\n",
       "            color:  #000000;\n",
       "        }    #T_091dccdc_54ae_11ea_a8e1_81ef79762d40row5_col3 {\n",
       "            background-color:  #eae8f2;\n",
       "            color:  #000000;\n",
       "        }    #T_091dccdc_54ae_11ea_a8e1_81ef79762d40row5_col4 {\n",
       "            background-color:  #f1eff6;\n",
       "            color:  #000000;\n",
       "        }    #T_091dccdc_54ae_11ea_a8e1_81ef79762d40row5_col5 {\n",
       "            background-color:  #3f007d;\n",
       "            color:  #f1f1f1;\n",
       "        }    #T_091dccdc_54ae_11ea_a8e1_81ef79762d40row5_col6 {\n",
       "            background-color:  #cecfe5;\n",
       "            color:  #000000;\n",
       "        }    #T_091dccdc_54ae_11ea_a8e1_81ef79762d40row5_col7 {\n",
       "            background-color:  #dedded;\n",
       "            color:  #000000;\n",
       "        }    #T_091dccdc_54ae_11ea_a8e1_81ef79762d40row5_col8 {\n",
       "            background-color:  #bbbbdb;\n",
       "            color:  #000000;\n",
       "        }    #T_091dccdc_54ae_11ea_a8e1_81ef79762d40row6_col0 {\n",
       "            background-color:  #a19eca;\n",
       "            color:  #000000;\n",
       "        }    #T_091dccdc_54ae_11ea_a8e1_81ef79762d40row6_col1 {\n",
       "            background-color:  #a5a2cd;\n",
       "            color:  #000000;\n",
       "        }    #T_091dccdc_54ae_11ea_a8e1_81ef79762d40row6_col2 {\n",
       "            background-color:  #b5b5d7;\n",
       "            color:  #000000;\n",
       "        }    #T_091dccdc_54ae_11ea_a8e1_81ef79762d40row6_col3 {\n",
       "            background-color:  #d3d3e8;\n",
       "            color:  #000000;\n",
       "        }    #T_091dccdc_54ae_11ea_a8e1_81ef79762d40row6_col4 {\n",
       "            background-color:  #d7d7e9;\n",
       "            color:  #000000;\n",
       "        }    #T_091dccdc_54ae_11ea_a8e1_81ef79762d40row6_col5 {\n",
       "            background-color:  #c4c5e0;\n",
       "            color:  #000000;\n",
       "        }    #T_091dccdc_54ae_11ea_a8e1_81ef79762d40row6_col6 {\n",
       "            background-color:  #3f007d;\n",
       "            color:  #f1f1f1;\n",
       "        }    #T_091dccdc_54ae_11ea_a8e1_81ef79762d40row6_col7 {\n",
       "            background-color:  #fcfbfd;\n",
       "            color:  #000000;\n",
       "        }    #T_091dccdc_54ae_11ea_a8e1_81ef79762d40row6_col8 {\n",
       "            background-color:  #f6f5f9;\n",
       "            color:  #000000;\n",
       "        }    #T_091dccdc_54ae_11ea_a8e1_81ef79762d40row7_col0 {\n",
       "            background-color:  #e2e1ef;\n",
       "            color:  #000000;\n",
       "        }    #T_091dccdc_54ae_11ea_a8e1_81ef79762d40row7_col1 {\n",
       "            background-color:  #cfd0e6;\n",
       "            color:  #000000;\n",
       "        }    #T_091dccdc_54ae_11ea_a8e1_81ef79762d40row7_col2 {\n",
       "            background-color:  #e8e6f2;\n",
       "            color:  #000000;\n",
       "        }    #T_091dccdc_54ae_11ea_a8e1_81ef79762d40row7_col3 {\n",
       "            background-color:  #ecebf4;\n",
       "            color:  #000000;\n",
       "        }    #T_091dccdc_54ae_11ea_a8e1_81ef79762d40row7_col4 {\n",
       "            background-color:  #a7a4ce;\n",
       "            color:  #000000;\n",
       "        }    #T_091dccdc_54ae_11ea_a8e1_81ef79762d40row7_col5 {\n",
       "            background-color:  #d3d3e8;\n",
       "            color:  #000000;\n",
       "        }    #T_091dccdc_54ae_11ea_a8e1_81ef79762d40row7_col6 {\n",
       "            background-color:  #fcfbfd;\n",
       "            color:  #000000;\n",
       "        }    #T_091dccdc_54ae_11ea_a8e1_81ef79762d40row7_col7 {\n",
       "            background-color:  #3f007d;\n",
       "            color:  #f1f1f1;\n",
       "        }    #T_091dccdc_54ae_11ea_a8e1_81ef79762d40row7_col8 {\n",
       "            background-color:  #f5f4f9;\n",
       "            color:  #000000;\n",
       "        }    #T_091dccdc_54ae_11ea_a8e1_81ef79762d40row8_col0 {\n",
       "            background-color:  #f4f3f8;\n",
       "            color:  #000000;\n",
       "        }    #T_091dccdc_54ae_11ea_a8e1_81ef79762d40row8_col1 {\n",
       "            background-color:  #dfdfed;\n",
       "            color:  #000000;\n",
       "        }    #T_091dccdc_54ae_11ea_a8e1_81ef79762d40row8_col2 {\n",
       "            background-color:  #f3f2f8;\n",
       "            color:  #000000;\n",
       "        }    #T_091dccdc_54ae_11ea_a8e1_81ef79762d40row8_col3 {\n",
       "            background-color:  #fcfbfd;\n",
       "            color:  #000000;\n",
       "        }    #T_091dccdc_54ae_11ea_a8e1_81ef79762d40row8_col4 {\n",
       "            background-color:  #9d99c7;\n",
       "            color:  #000000;\n",
       "        }    #T_091dccdc_54ae_11ea_a8e1_81ef79762d40row8_col5 {\n",
       "            background-color:  #bbbbdb;\n",
       "            color:  #000000;\n",
       "        }    #T_091dccdc_54ae_11ea_a8e1_81ef79762d40row8_col6 {\n",
       "            background-color:  #fcfbfd;\n",
       "            color:  #000000;\n",
       "        }    #T_091dccdc_54ae_11ea_a8e1_81ef79762d40row8_col7 {\n",
       "            background-color:  #fcfbfd;\n",
       "            color:  #000000;\n",
       "        }    #T_091dccdc_54ae_11ea_a8e1_81ef79762d40row8_col8 {\n",
       "            background-color:  #3f007d;\n",
       "            color:  #f1f1f1;\n",
       "        }</style><table id=\"T_091dccdc_54ae_11ea_a8e1_81ef79762d40\" ><thead>    <tr>        <th class=\"blank level0\" ></th>        <th class=\"col_heading level0 col0\" >salary</th>        <th class=\"col_heading level0 col1\" >yearsworked</th>        <th class=\"col_heading level0 col2\" >yearsrank</th>        <th class=\"col_heading level0 col3\" >market</th>        <th class=\"col_heading level0 col4\" >position_Junior</th>        <th class=\"col_heading level0 col5\" >position_Manager</th>        <th class=\"col_heading level0 col6\" >Field_Finance</th>        <th class=\"col_heading level0 col7\" >Field_Marketing</th>        <th class=\"col_heading level0 col8\" >Field_Human Resources</th>    </tr></thead><tbody>\n",
       "                <tr>\n",
       "                        <th id=\"T_091dccdc_54ae_11ea_a8e1_81ef79762d40level0_row0\" class=\"row_heading level0 row0\" >salary</th>\n",
       "                        <td id=\"T_091dccdc_54ae_11ea_a8e1_81ef79762d40row0_col0\" class=\"data row0 col0\" >1</td>\n",
       "                        <td id=\"T_091dccdc_54ae_11ea_a8e1_81ef79762d40row0_col1\" class=\"data row0 col1\" >0.606048</td>\n",
       "                        <td id=\"T_091dccdc_54ae_11ea_a8e1_81ef79762d40row0_col2\" class=\"data row0 col2\" >0.613583</td>\n",
       "                        <td id=\"T_091dccdc_54ae_11ea_a8e1_81ef79762d40row0_col3\" class=\"data row0 col3\" >0.396942</td>\n",
       "                        <td id=\"T_091dccdc_54ae_11ea_a8e1_81ef79762d40row0_col4\" class=\"data row0 col4\" >-0.54014</td>\n",
       "                        <td id=\"T_091dccdc_54ae_11ea_a8e1_81ef79762d40row0_col5\" class=\"data row0 col5\" >-0.204862</td>\n",
       "                        <td id=\"T_091dccdc_54ae_11ea_a8e1_81ef79762d40row0_col6\" class=\"data row0 col6\" >0.211728</td>\n",
       "                        <td id=\"T_091dccdc_54ae_11ea_a8e1_81ef79762d40row0_col7\" class=\"data row0 col7\" >-0.221691</td>\n",
       "                        <td id=\"T_091dccdc_54ae_11ea_a8e1_81ef79762d40row0_col8\" class=\"data row0 col8\" >-0.422352</td>\n",
       "            </tr>\n",
       "            <tr>\n",
       "                        <th id=\"T_091dccdc_54ae_11ea_a8e1_81ef79762d40level0_row1\" class=\"row_heading level0 row1\" >yearsworked</th>\n",
       "                        <td id=\"T_091dccdc_54ae_11ea_a8e1_81ef79762d40row1_col0\" class=\"data row1 col0\" >0.606048</td>\n",
       "                        <td id=\"T_091dccdc_54ae_11ea_a8e1_81ef79762d40row1_col1\" class=\"data row1 col1\" >1</td>\n",
       "                        <td id=\"T_091dccdc_54ae_11ea_a8e1_81ef79762d40row1_col2\" class=\"data row1 col2\" >0.835483</td>\n",
       "                        <td id=\"T_091dccdc_54ae_11ea_a8e1_81ef79762d40row1_col3\" class=\"data row1 col3\" >-0.0652922</td>\n",
       "                        <td id=\"T_091dccdc_54ae_11ea_a8e1_81ef79762d40row1_col4\" class=\"data row1 col4\" >-0.60103</td>\n",
       "                        <td id=\"T_091dccdc_54ae_11ea_a8e1_81ef79762d40row1_col5\" class=\"data row1 col5\" >-0.0848521</td>\n",
       "                        <td id=\"T_091dccdc_54ae_11ea_a8e1_81ef79762d40row1_col6\" class=\"data row1 col6\" >0.152988</td>\n",
       "                        <td id=\"T_091dccdc_54ae_11ea_a8e1_81ef79762d40row1_col7\" class=\"data row1 col7\" >-0.126791</td>\n",
       "                        <td id=\"T_091dccdc_54ae_11ea_a8e1_81ef79762d40row1_col8\" class=\"data row1 col8\" >-0.249087</td>\n",
       "            </tr>\n",
       "            <tr>\n",
       "                        <th id=\"T_091dccdc_54ae_11ea_a8e1_81ef79762d40level0_row2\" class=\"row_heading level0 row2\" >yearsrank</th>\n",
       "                        <td id=\"T_091dccdc_54ae_11ea_a8e1_81ef79762d40row2_col0\" class=\"data row2 col0\" >0.613583</td>\n",
       "                        <td id=\"T_091dccdc_54ae_11ea_a8e1_81ef79762d40row2_col1\" class=\"data row2 col1\" >0.835483</td>\n",
       "                        <td id=\"T_091dccdc_54ae_11ea_a8e1_81ef79762d40row2_col2\" class=\"data row2 col2\" >1</td>\n",
       "                        <td id=\"T_091dccdc_54ae_11ea_a8e1_81ef79762d40row2_col3\" class=\"data row2 col3\" >-0.0166195</td>\n",
       "                        <td id=\"T_091dccdc_54ae_11ea_a8e1_81ef79762d40row2_col4\" class=\"data row2 col4\" >-0.376108</td>\n",
       "                        <td id=\"T_091dccdc_54ae_11ea_a8e1_81ef79762d40row2_col5\" class=\"data row2 col5\" >-0.0989205</td>\n",
       "                        <td id=\"T_091dccdc_54ae_11ea_a8e1_81ef79762d40row2_col6\" class=\"data row2 col6\" >0.182342</td>\n",
       "                        <td id=\"T_091dccdc_54ae_11ea_a8e1_81ef79762d40row2_col7\" class=\"data row2 col7\" >-0.141094</td>\n",
       "                        <td id=\"T_091dccdc_54ae_11ea_a8e1_81ef79762d40row2_col8\" class=\"data row2 col8\" >-0.262462</td>\n",
       "            </tr>\n",
       "            <tr>\n",
       "                        <th id=\"T_091dccdc_54ae_11ea_a8e1_81ef79762d40level0_row3\" class=\"row_heading level0 row3\" >market</th>\n",
       "                        <td id=\"T_091dccdc_54ae_11ea_a8e1_81ef79762d40row3_col0\" class=\"data row3 col0\" >0.396942</td>\n",
       "                        <td id=\"T_091dccdc_54ae_11ea_a8e1_81ef79762d40row3_col1\" class=\"data row3 col1\" >-0.0652922</td>\n",
       "                        <td id=\"T_091dccdc_54ae_11ea_a8e1_81ef79762d40row3_col2\" class=\"data row3 col2\" >-0.0166195</td>\n",
       "                        <td id=\"T_091dccdc_54ae_11ea_a8e1_81ef79762d40row3_col3\" class=\"data row3 col3\" >1</td>\n",
       "                        <td id=\"T_091dccdc_54ae_11ea_a8e1_81ef79762d40row3_col4\" class=\"data row3 col4\" >0.0175183</td>\n",
       "                        <td id=\"T_091dccdc_54ae_11ea_a8e1_81ef79762d40row3_col5\" class=\"data row3 col5\" >-0.031137</td>\n",
       "                        <td id=\"T_091dccdc_54ae_11ea_a8e1_81ef79762d40row3_col6\" class=\"data row3 col6\" >0.116448</td>\n",
       "                        <td id=\"T_091dccdc_54ae_11ea_a8e1_81ef79762d40row3_col7\" class=\"data row3 col7\" >-0.0525811</td>\n",
       "                        <td id=\"T_091dccdc_54ae_11ea_a8e1_81ef79762d40row3_col8\" class=\"data row3 col8\" >-0.226441</td>\n",
       "            </tr>\n",
       "            <tr>\n",
       "                        <th id=\"T_091dccdc_54ae_11ea_a8e1_81ef79762d40level0_row4\" class=\"row_heading level0 row4\" >position_Junior</th>\n",
       "                        <td id=\"T_091dccdc_54ae_11ea_a8e1_81ef79762d40row4_col0\" class=\"data row4 col0\" >-0.54014</td>\n",
       "                        <td id=\"T_091dccdc_54ae_11ea_a8e1_81ef79762d40row4_col1\" class=\"data row4 col1\" >-0.60103</td>\n",
       "                        <td id=\"T_091dccdc_54ae_11ea_a8e1_81ef79762d40row4_col2\" class=\"data row4 col2\" >-0.376108</td>\n",
       "                        <td id=\"T_091dccdc_54ae_11ea_a8e1_81ef79762d40row4_col3\" class=\"data row4 col3\" >0.0175183</td>\n",
       "                        <td id=\"T_091dccdc_54ae_11ea_a8e1_81ef79762d40row4_col4\" class=\"data row4 col4\" >1</td>\n",
       "                        <td id=\"T_091dccdc_54ae_11ea_a8e1_81ef79762d40row4_col5\" class=\"data row4 col5\" >-0.426067</td>\n",
       "                        <td id=\"T_091dccdc_54ae_11ea_a8e1_81ef79762d40row4_col6\" class=\"data row4 col6\" >-0.180059</td>\n",
       "                        <td id=\"T_091dccdc_54ae_11ea_a8e1_81ef79762d40row4_col7\" class=\"data row4 col7\" >0.13952</td>\n",
       "                        <td id=\"T_091dccdc_54ae_11ea_a8e1_81ef79762d40row4_col8\" class=\"data row4 col8\" >0.208201</td>\n",
       "            </tr>\n",
       "            <tr>\n",
       "                        <th id=\"T_091dccdc_54ae_11ea_a8e1_81ef79762d40level0_row5\" class=\"row_heading level0 row5\" >position_Manager</th>\n",
       "                        <td id=\"T_091dccdc_54ae_11ea_a8e1_81ef79762d40row5_col0\" class=\"data row5 col0\" >-0.204862</td>\n",
       "                        <td id=\"T_091dccdc_54ae_11ea_a8e1_81ef79762d40row5_col1\" class=\"data row5 col1\" >-0.0848521</td>\n",
       "                        <td id=\"T_091dccdc_54ae_11ea_a8e1_81ef79762d40row5_col2\" class=\"data row5 col2\" >-0.0989205</td>\n",
       "                        <td id=\"T_091dccdc_54ae_11ea_a8e1_81ef79762d40row5_col3\" class=\"data row5 col3\" >-0.031137</td>\n",
       "                        <td id=\"T_091dccdc_54ae_11ea_a8e1_81ef79762d40row5_col4\" class=\"data row5 col4\" >-0.426067</td>\n",
       "                        <td id=\"T_091dccdc_54ae_11ea_a8e1_81ef79762d40row5_col5\" class=\"data row5 col5\" >1</td>\n",
       "                        <td id=\"T_091dccdc_54ae_11ea_a8e1_81ef79762d40row5_col6\" class=\"data row5 col6\" >0.059004</td>\n",
       "                        <td id=\"T_091dccdc_54ae_11ea_a8e1_81ef79762d40row5_col7\" class=\"data row5 col7\" >-0.0282358</td>\n",
       "                        <td id=\"T_091dccdc_54ae_11ea_a8e1_81ef79762d40row5_col8\" class=\"data row5 col8\" >0.118862</td>\n",
       "            </tr>\n",
       "            <tr>\n",
       "                        <th id=\"T_091dccdc_54ae_11ea_a8e1_81ef79762d40level0_row6\" class=\"row_heading level0 row6\" >Field_Finance</th>\n",
       "                        <td id=\"T_091dccdc_54ae_11ea_a8e1_81ef79762d40row6_col0\" class=\"data row6 col0\" >0.211728</td>\n",
       "                        <td id=\"T_091dccdc_54ae_11ea_a8e1_81ef79762d40row6_col1\" class=\"data row6 col1\" >0.152988</td>\n",
       "                        <td id=\"T_091dccdc_54ae_11ea_a8e1_81ef79762d40row6_col2\" class=\"data row6 col2\" >0.182342</td>\n",
       "                        <td id=\"T_091dccdc_54ae_11ea_a8e1_81ef79762d40row6_col3\" class=\"data row6 col3\" >0.116448</td>\n",
       "                        <td id=\"T_091dccdc_54ae_11ea_a8e1_81ef79762d40row6_col4\" class=\"data row6 col4\" >-0.180059</td>\n",
       "                        <td id=\"T_091dccdc_54ae_11ea_a8e1_81ef79762d40row6_col5\" class=\"data row6 col5\" >0.059004</td>\n",
       "                        <td id=\"T_091dccdc_54ae_11ea_a8e1_81ef79762d40row6_col6\" class=\"data row6 col6\" >1</td>\n",
       "                        <td id=\"T_091dccdc_54ae_11ea_a8e1_81ef79762d40row6_col7\" class=\"data row6 col7\" >-0.334279</td>\n",
       "                        <td id=\"T_091dccdc_54ae_11ea_a8e1_81ef79762d40row6_col8\" class=\"data row6 col8\" >-0.344498</td>\n",
       "            </tr>\n",
       "            <tr>\n",
       "                        <th id=\"T_091dccdc_54ae_11ea_a8e1_81ef79762d40level0_row7\" class=\"row_heading level0 row7\" >Field_Marketing</th>\n",
       "                        <td id=\"T_091dccdc_54ae_11ea_a8e1_81ef79762d40row7_col0\" class=\"data row7 col0\" >-0.221691</td>\n",
       "                        <td id=\"T_091dccdc_54ae_11ea_a8e1_81ef79762d40row7_col1\" class=\"data row7 col1\" >-0.126791</td>\n",
       "                        <td id=\"T_091dccdc_54ae_11ea_a8e1_81ef79762d40row7_col2\" class=\"data row7 col2\" >-0.141094</td>\n",
       "                        <td id=\"T_091dccdc_54ae_11ea_a8e1_81ef79762d40row7_col3\" class=\"data row7 col3\" >-0.0525811</td>\n",
       "                        <td id=\"T_091dccdc_54ae_11ea_a8e1_81ef79762d40row7_col4\" class=\"data row7 col4\" >0.13952</td>\n",
       "                        <td id=\"T_091dccdc_54ae_11ea_a8e1_81ef79762d40row7_col5\" class=\"data row7 col5\" >-0.0282358</td>\n",
       "                        <td id=\"T_091dccdc_54ae_11ea_a8e1_81ef79762d40row7_col6\" class=\"data row7 col6\" >-0.334279</td>\n",
       "                        <td id=\"T_091dccdc_54ae_11ea_a8e1_81ef79762d40row7_col7\" class=\"data row7 col7\" >1</td>\n",
       "                        <td id=\"T_091dccdc_54ae_11ea_a8e1_81ef79762d40row7_col8\" class=\"data row7 col8\" >-0.324648</td>\n",
       "            </tr>\n",
       "            <tr>\n",
       "                        <th id=\"T_091dccdc_54ae_11ea_a8e1_81ef79762d40level0_row8\" class=\"row_heading level0 row8\" >Field_Human Resources</th>\n",
       "                        <td id=\"T_091dccdc_54ae_11ea_a8e1_81ef79762d40row8_col0\" class=\"data row8 col0\" >-0.422352</td>\n",
       "                        <td id=\"T_091dccdc_54ae_11ea_a8e1_81ef79762d40row8_col1\" class=\"data row8 col1\" >-0.249087</td>\n",
       "                        <td id=\"T_091dccdc_54ae_11ea_a8e1_81ef79762d40row8_col2\" class=\"data row8 col2\" >-0.262462</td>\n",
       "                        <td id=\"T_091dccdc_54ae_11ea_a8e1_81ef79762d40row8_col3\" class=\"data row8 col3\" >-0.226441</td>\n",
       "                        <td id=\"T_091dccdc_54ae_11ea_a8e1_81ef79762d40row8_col4\" class=\"data row8 col4\" >0.208201</td>\n",
       "                        <td id=\"T_091dccdc_54ae_11ea_a8e1_81ef79762d40row8_col5\" class=\"data row8 col5\" >0.118862</td>\n",
       "                        <td id=\"T_091dccdc_54ae_11ea_a8e1_81ef79762d40row8_col6\" class=\"data row8 col6\" >-0.344498</td>\n",
       "                        <td id=\"T_091dccdc_54ae_11ea_a8e1_81ef79762d40row8_col7\" class=\"data row8 col7\" >-0.324648</td>\n",
       "                        <td id=\"T_091dccdc_54ae_11ea_a8e1_81ef79762d40row8_col8\" class=\"data row8 col8\" >1</td>\n",
       "            </tr>\n",
       "    </tbody></table>"
      ],
      "text/plain": [
       "<pandas.io.formats.style.Styler at 0x7fb25ceeb350>"
      ]
     },
     "execution_count": 110,
     "metadata": {},
     "output_type": "execute_result"
    }
   ],
   "source": [
    "desired_features_corr = desired_features.corr()\n",
    "desired_features_corr.style.background_gradient(cmap = 'Purples')"
   ]
  },
  {
   "cell_type": "code",
   "execution_count": 113,
   "metadata": {},
   "outputs": [
    {
     "name": "stdout",
     "output_type": "stream",
     "text": [
      "For yearsworked, the correlation and p_value are: (0.6060480089102416, 2.266003579671186e-37)\n",
      "For yearsrank, the correlation and p_value are: (0.6135825833963294, 1.6436000944300498e-38)\n",
      "For junior position, the correlation and p_value are: (-0.5401397251802958, 1.4064064406897917e-28)\n",
      "For manager position, the correlation and p_value are: (-0.20486237684472655, 9.245120949564643e-05)\n",
      "For finance field, the correlation and p_value are: (0.2117277974827107, 5.263358807296724e-05)\n",
      "For marketing field, the correlation and p_value are: (-0.22169099026682754, 2.2486390259968748e-05)\n",
      "For HR field, the correlation and p_value are: (-0.4223524165541593, 5.792266932253095e-17)\n"
     ]
    }
   ],
   "source": [
    "print('For yearsworked, the correlation and p_value are:',stats.pearsonr(x_train1['yearsworked'],x_train['salary']))\n",
    "print('For yearsrank, the correlation and p_value are:',stats.pearsonr(x_train1['yearsrank'],x_train1['salary']))\n",
    "print('For junior position, the correlation and p_value are:',stats.pearsonr(x_train1['position_Junior'],x_train1['salary']))\n",
    "print('For manager position, the correlation and p_value are:',stats.pearsonr(x_train1['position_Manager'],x_train1['salary']))\n",
    "print('For finance field, the correlation and p_value are:',stats.pearsonr(x_train1['Field_Finance'],x_train1['salary']))\n",
    "print('For marketing field, the correlation and p_value are:',stats.pearsonr(x_train1['Field_Marketing'],x_train1['salary']))\n",
    "print('For HR field, the correlation and p_value are:',stats.pearsonr(x_train1['Field_Human Resources'],x_train1['salary']))\n"
   ]
  },
  {
   "cell_type": "markdown",
   "metadata": {},
   "source": [
    "*The above correlationship map shows the relationship between the features.* \n",
    "- It can show if there is multicollinearity that exist.\n",
    "- The darker the color on the block the higher the correlation.\n",
    "    \n",
    "*From the features we assume to be desired, the ones with strong correlation with salary are:*\n",
    "- Yearsworked\n",
    "- Yearsrank\n",
    "- Position \n",
    "\n",
    "*But there is a strong correlation between yearsworked and yearsank.\n",
    "Therefore the features chosen for fitting a model are:*\n",
    "- yearsworked\n",
    "- position\n",
    "\n",
    "Due to the low correlation between salary and the Field categories, we decided to not include Field in our model."
   ]
  },
  {
   "cell_type": "code",
   "execution_count": 120,
   "metadata": {},
   "outputs": [
    {
     "name": "stderr",
     "output_type": "stream",
     "text": [
      "/home/olebogeng/anaconda3/lib/python3.7/site-packages/ipykernel_launcher.py:2: SettingWithCopyWarning: \n",
      "A value is trying to be set on a copy of a slice from a DataFrame.\n",
      "Try using .loc[row_indexer,col_indexer] = value instead\n",
      "\n",
      "See the caveats in the documentation: http://pandas.pydata.org/pandas-docs/stable/user_guide/indexing.html#returning-a-view-versus-a-copy\n",
      "  \n",
      "/home/olebogeng/anaconda3/lib/python3.7/site-packages/ipykernel_launcher.py:4: SettingWithCopyWarning: \n",
      "A value is trying to be set on a copy of a slice from a DataFrame.\n",
      "Try using .loc[row_indexer,col_indexer] = value instead\n",
      "\n",
      "See the caveats in the documentation: http://pandas.pydata.org/pandas-docs/stable/user_guide/indexing.html#returning-a-view-versus-a-copy\n",
      "  after removing the cwd from sys.path.\n",
      "/home/olebogeng/anaconda3/lib/python3.7/site-packages/ipykernel_launcher.py:6: SettingWithCopyWarning: \n",
      "A value is trying to be set on a copy of a slice from a DataFrame.\n",
      "Try using .loc[row_indexer,col_indexer] = value instead\n",
      "\n",
      "See the caveats in the documentation: http://pandas.pydata.org/pandas-docs/stable/user_guide/indexing.html#returning-a-view-versus-a-copy\n",
      "  \n",
      "/home/olebogeng/anaconda3/lib/python3.7/site-packages/ipykernel_launcher.py:8: SettingWithCopyWarning: \n",
      "A value is trying to be set on a copy of a slice from a DataFrame.\n",
      "Try using .loc[row_indexer,col_indexer] = value instead\n",
      "\n",
      "See the caveats in the documentation: http://pandas.pydata.org/pandas-docs/stable/user_guide/indexing.html#returning-a-view-versus-a-copy\n",
      "  \n",
      "/home/olebogeng/anaconda3/lib/python3.7/site-packages/ipykernel_launcher.py:10: SettingWithCopyWarning: \n",
      "A value is trying to be set on a copy of a slice from a DataFrame.\n",
      "Try using .loc[row_indexer,col_indexer] = value instead\n",
      "\n",
      "See the caveats in the documentation: http://pandas.pydata.org/pandas-docs/stable/user_guide/indexing.html#returning-a-view-versus-a-copy\n",
      "  # Remove the CWD from sys.path while we load stuff.\n"
     ]
    }
   ],
   "source": [
    "dict1 = {1:'Engineering', 2:'Finance', 3:'Human Resources', 4:'Marketing'}\n",
    "x_test['Field'] = x_test.Field.map(dict1)\n",
    "dict2 ={0:'female', 1: 'male'}\n",
    "x_test['male'] =x_test.male.map(dict2)\n",
    "dict3={1:'Junior', 2:'Manager', 3:'Executive'}\n",
    "x_test['position']=x_test.position.map(dict3)\n",
    "dict4 ={0:'no other qual', 1:'yes other qual'}\n",
    "x_test['otherqual'] = x_test.otherqual.map(dict4)\n",
    "dict5 = {0:'no degree', 1:'yes degree'}\n",
    "x_test['degree']= x_test.degree.map(dict5)\n",
    "x_test1 = pd.get_dummies(x_test, prefix_sep='_', drop_first=True)"
   ]
  },
  {
   "cell_type": "code",
   "execution_count": 121,
   "metadata": {
    "scrolled": false
   },
   "outputs": [],
   "source": [
    "# Field = pd.get_dummies(x_train['Field'],prefix_sep='_',drop_first=False)\n",
    "# Field.set_index('Human Resources')"
   ]
  },
  {
   "cell_type": "code",
   "execution_count": 122,
   "metadata": {
    "scrolled": true
   },
   "outputs": [],
   "source": [
    "# dat_num = data_num.drop(['salary'],axis=1)\n",
    "# plt.figure(figsize=(15,15))\n",
    "# ax = sns.boxplot(data=dat_num,orient='h' ,palette='Set2')\n"
   ]
  },
  {
   "cell_type": "markdown",
   "metadata": {},
   "source": [
    "## Fitting the model for all the features"
   ]
  },
  {
   "cell_type": "code",
   "execution_count": 123,
   "metadata": {},
   "outputs": [],
   "source": [
    "x_train1 = x_train1.drop('salary',axis=1)"
   ]
  },
  {
   "cell_type": "code",
   "execution_count": 124,
   "metadata": {},
   "outputs": [
    {
     "data": {
      "text/html": [
       "<table class=\"simpletable\">\n",
       "<caption>OLS Regression Results</caption>\n",
       "<tr>\n",
       "  <th>Dep. Variable:</th>         <td>salary</td>      <th>  R-squared:         </th> <td>   0.823</td> \n",
       "</tr>\n",
       "<tr>\n",
       "  <th>Model:</th>                   <td>OLS</td>       <th>  Adj. R-squared:    </th> <td>   0.816</td> \n",
       "</tr>\n",
       "<tr>\n",
       "  <th>Method:</th>             <td>Least Squares</td>  <th>  F-statistic:       </th> <td>   123.3</td> \n",
       "</tr>\n",
       "<tr>\n",
       "  <th>Date:</th>             <td>Fri, 21 Feb 2020</td> <th>  Prob (F-statistic):</th> <td>5.35e-121</td>\n",
       "</tr>\n",
       "<tr>\n",
       "  <th>Time:</th>                 <td>15:39:54</td>     <th>  Log-Likelihood:    </th> <td> -3596.9</td> \n",
       "</tr>\n",
       "<tr>\n",
       "  <th>No. Observations:</th>      <td>   359</td>      <th>  AIC:               </th> <td>   7222.</td> \n",
       "</tr>\n",
       "<tr>\n",
       "  <th>Df Residuals:</th>          <td>   345</td>      <th>  BIC:               </th> <td>   7276.</td> \n",
       "</tr>\n",
       "<tr>\n",
       "  <th>Df Model:</th>              <td>    13</td>      <th>                     </th>     <td> </td>    \n",
       "</tr>\n",
       "<tr>\n",
       "  <th>Covariance Type:</th>      <td>nonrobust</td>    <th>                     </th>     <td> </td>    \n",
       "</tr>\n",
       "</table>\n",
       "<table class=\"simpletable\">\n",
       "<tr>\n",
       "              <td></td>                <th>coef</th>     <th>std err</th>      <th>t</th>      <th>P>|t|</th>  <th>[0.025</th>    <th>0.975]</th>  \n",
       "</tr>\n",
       "<tr>\n",
       "  <th>const</th>                    <td> 3.189e+04</td> <td> 3555.735</td> <td>    8.969</td> <td> 0.000</td> <td> 2.49e+04</td> <td> 3.89e+04</td>\n",
       "</tr>\n",
       "<tr>\n",
       "  <th>exprior</th>                  <td>  114.6200</td> <td>   81.794</td> <td>    1.401</td> <td> 0.162</td> <td>  -46.258</td> <td>  275.498</td>\n",
       "</tr>\n",
       "<tr>\n",
       "  <th>yearsworked</th>              <td> -275.5430</td> <td>  102.675</td> <td>   -2.684</td> <td> 0.008</td> <td> -477.490</td> <td>  -73.596</td>\n",
       "</tr>\n",
       "<tr>\n",
       "  <th>yearsrank</th>                <td>  938.0919</td> <td>  100.948</td> <td>    9.293</td> <td> 0.000</td> <td>  739.541</td> <td> 1136.643</td>\n",
       "</tr>\n",
       "<tr>\n",
       "  <th>market</th>                   <td>  3.03e+04</td> <td> 2155.764</td> <td>   14.056</td> <td> 0.000</td> <td> 2.61e+04</td> <td> 3.45e+04</td>\n",
       "</tr>\n",
       "<tr>\n",
       "  <th>yearsabs</th>                 <td>  -12.3876</td> <td>   25.590</td> <td>   -0.484</td> <td> 0.629</td> <td>  -62.719</td> <td>   37.944</td>\n",
       "</tr>\n",
       "<tr>\n",
       "  <th>degree_yes degree</th>        <td>-1773.4192</td> <td> 1810.782</td> <td>   -0.979</td> <td> 0.328</td> <td>-5334.982</td> <td> 1788.143</td>\n",
       "</tr>\n",
       "<tr>\n",
       "  <th>otherqual_yes other qual</th> <td> 1522.8107</td> <td> 1492.764</td> <td>    1.020</td> <td> 0.308</td> <td>-1413.253</td> <td> 4458.875</td>\n",
       "</tr>\n",
       "<tr>\n",
       "  <th>position_Junior</th>          <td>-1.752e+04</td> <td> 1463.819</td> <td>  -11.968</td> <td> 0.000</td> <td>-2.04e+04</td> <td>-1.46e+04</td>\n",
       "</tr>\n",
       "<tr>\n",
       "  <th>position_Manager</th>         <td>-1.078e+04</td> <td>  956.795</td> <td>  -11.269</td> <td> 0.000</td> <td>-1.27e+04</td> <td>-8900.647</td>\n",
       "</tr>\n",
       "<tr>\n",
       "  <th>male_male</th>                <td>  446.6965</td> <td> 1024.288</td> <td>    0.436</td> <td> 0.663</td> <td>-1567.939</td> <td> 2461.332</td>\n",
       "</tr>\n",
       "<tr>\n",
       "  <th>Field_Finance</th>            <td>-2777.4886</td> <td>  832.861</td> <td>   -3.335</td> <td> 0.001</td> <td>-4415.614</td> <td>-1139.364</td>\n",
       "</tr>\n",
       "<tr>\n",
       "  <th>Field_Human Resources</th>    <td>-5407.3438</td> <td>  951.781</td> <td>   -5.681</td> <td> 0.000</td> <td>-7279.368</td> <td>-3535.320</td>\n",
       "</tr>\n",
       "<tr>\n",
       "  <th>Field_Marketing</th>          <td>-5314.8246</td> <td>  893.750</td> <td>   -5.947</td> <td> 0.000</td> <td>-7072.710</td> <td>-3556.940</td>\n",
       "</tr>\n",
       "</table>\n",
       "<table class=\"simpletable\">\n",
       "<tr>\n",
       "  <th>Omnibus:</th>       <td>29.201</td> <th>  Durbin-Watson:     </th> <td>   1.965</td>\n",
       "</tr>\n",
       "<tr>\n",
       "  <th>Prob(Omnibus):</th> <td> 0.000</td> <th>  Jarque-Bera (JB):  </th> <td>  44.537</td>\n",
       "</tr>\n",
       "<tr>\n",
       "  <th>Skew:</th>          <td> 0.553</td> <th>  Prob(JB):          </th> <td>2.13e-10</td>\n",
       "</tr>\n",
       "<tr>\n",
       "  <th>Kurtosis:</th>      <td> 4.324</td> <th>  Cond. No.          </th> <td>    299.</td>\n",
       "</tr>\n",
       "</table><br/><br/>Warnings:<br/>[1] Standard Errors assume that the covariance matrix of the errors is correctly specified."
      ],
      "text/plain": [
       "<class 'statsmodels.iolib.summary.Summary'>\n",
       "\"\"\"\n",
       "                            OLS Regression Results                            \n",
       "==============================================================================\n",
       "Dep. Variable:                 salary   R-squared:                       0.823\n",
       "Model:                            OLS   Adj. R-squared:                  0.816\n",
       "Method:                 Least Squares   F-statistic:                     123.3\n",
       "Date:                Fri, 21 Feb 2020   Prob (F-statistic):          5.35e-121\n",
       "Time:                        15:39:54   Log-Likelihood:                -3596.9\n",
       "No. Observations:                 359   AIC:                             7222.\n",
       "Df Residuals:                     345   BIC:                             7276.\n",
       "Df Model:                          13                                         \n",
       "Covariance Type:            nonrobust                                         \n",
       "============================================================================================\n",
       "                               coef    std err          t      P>|t|      [0.025      0.975]\n",
       "--------------------------------------------------------------------------------------------\n",
       "const                     3.189e+04   3555.735      8.969      0.000    2.49e+04    3.89e+04\n",
       "exprior                    114.6200     81.794      1.401      0.162     -46.258     275.498\n",
       "yearsworked               -275.5430    102.675     -2.684      0.008    -477.490     -73.596\n",
       "yearsrank                  938.0919    100.948      9.293      0.000     739.541    1136.643\n",
       "market                     3.03e+04   2155.764     14.056      0.000    2.61e+04    3.45e+04\n",
       "yearsabs                   -12.3876     25.590     -0.484      0.629     -62.719      37.944\n",
       "degree_yes degree        -1773.4192   1810.782     -0.979      0.328   -5334.982    1788.143\n",
       "otherqual_yes other qual  1522.8107   1492.764      1.020      0.308   -1413.253    4458.875\n",
       "position_Junior          -1.752e+04   1463.819    -11.968      0.000   -2.04e+04   -1.46e+04\n",
       "position_Manager         -1.078e+04    956.795    -11.269      0.000   -1.27e+04   -8900.647\n",
       "male_male                  446.6965   1024.288      0.436      0.663   -1567.939    2461.332\n",
       "Field_Finance            -2777.4886    832.861     -3.335      0.001   -4415.614   -1139.364\n",
       "Field_Human Resources    -5407.3438    951.781     -5.681      0.000   -7279.368   -3535.320\n",
       "Field_Marketing          -5314.8246    893.750     -5.947      0.000   -7072.710   -3556.940\n",
       "==============================================================================\n",
       "Omnibus:                       29.201   Durbin-Watson:                   1.965\n",
       "Prob(Omnibus):                  0.000   Jarque-Bera (JB):               44.537\n",
       "Skew:                           0.553   Prob(JB):                     2.13e-10\n",
       "Kurtosis:                       4.324   Cond. No.                         299.\n",
       "==============================================================================\n",
       "\n",
       "Warnings:\n",
       "[1] Standard Errors assume that the covariance matrix of the errors is correctly specified.\n",
       "\"\"\""
      ]
     },
     "execution_count": 124,
     "metadata": {},
     "output_type": "execute_result"
    }
   ],
   "source": [
    "import statsmodels.api as sm\n",
    "x_train2 = sm.add_constant(x_train1)\n",
    "model = sm.OLS(y_train,x_train2).fit()\n",
    "model.summary()\n"
   ]
  },
  {
   "cell_type": "markdown",
   "metadata": {},
   "source": [
    "*The R-squared is 0.823 which means about 82% of the data is exlained by this model.*\n",
    "*Looking at the P-values, most variables do not have a significant relationship with salary.*"
   ]
  },
  {
   "cell_type": "markdown",
   "metadata": {},
   "source": [
    "## Fitting the model for the desired features"
   ]
  },
  {
   "cell_type": "code",
   "execution_count": 125,
   "metadata": {},
   "outputs": [
    {
     "data": {
      "text/html": [
       "<table class=\"simpletable\">\n",
       "<caption>OLS Regression Results</caption>\n",
       "<tr>\n",
       "  <th>Dep. Variable:</th>         <td>salary</td>      <th>  R-squared:         </th> <td>   0.619</td>\n",
       "</tr>\n",
       "<tr>\n",
       "  <th>Model:</th>                   <td>OLS</td>       <th>  Adj. R-squared:    </th> <td>   0.615</td>\n",
       "</tr>\n",
       "<tr>\n",
       "  <th>Method:</th>             <td>Least Squares</td>  <th>  F-statistic:       </th> <td>   192.0</td>\n",
       "</tr>\n",
       "<tr>\n",
       "  <th>Date:</th>             <td>Fri, 21 Feb 2020</td> <th>  Prob (F-statistic):</th> <td>5.59e-74</td>\n",
       "</tr>\n",
       "<tr>\n",
       "  <th>Time:</th>                 <td>15:40:14</td>     <th>  Log-Likelihood:    </th> <td> -3734.6</td>\n",
       "</tr>\n",
       "<tr>\n",
       "  <th>No. Observations:</th>      <td>   359</td>      <th>  AIC:               </th> <td>   7477.</td>\n",
       "</tr>\n",
       "<tr>\n",
       "  <th>Df Residuals:</th>          <td>   355</td>      <th>  BIC:               </th> <td>   7493.</td>\n",
       "</tr>\n",
       "<tr>\n",
       "  <th>Df Model:</th>              <td>     3</td>      <th>                     </th>     <td> </td>   \n",
       "</tr>\n",
       "<tr>\n",
       "  <th>Covariance Type:</th>      <td>nonrobust</td>    <th>                     </th>     <td> </td>   \n",
       "</tr>\n",
       "</table>\n",
       "<table class=\"simpletable\">\n",
       "<tr>\n",
       "          <td></td>            <th>coef</th>     <th>std err</th>      <th>t</th>      <th>P>|t|</th>  <th>[0.025</th>    <th>0.975]</th>  \n",
       "</tr>\n",
       "<tr>\n",
       "  <th>const</th>            <td> 5.451e+04</td> <td> 1031.587</td> <td>   52.845</td> <td> 0.000</td> <td> 5.25e+04</td> <td> 5.65e+04</td>\n",
       "</tr>\n",
       "<tr>\n",
       "  <th>yearsrank</th>        <td>  699.3902</td> <td>   74.068</td> <td>    9.443</td> <td> 0.000</td> <td>  553.723</td> <td>  845.057</td>\n",
       "</tr>\n",
       "<tr>\n",
       "  <th>position_Junior</th>  <td>-1.702e+04</td> <td> 1185.740</td> <td>  -14.352</td> <td> 0.000</td> <td>-1.93e+04</td> <td>-1.47e+04</td>\n",
       "</tr>\n",
       "<tr>\n",
       "  <th>position_Manager</th> <td>-1.158e+04</td> <td> 1049.394</td> <td>  -11.033</td> <td> 0.000</td> <td>-1.36e+04</td> <td>-9514.423</td>\n",
       "</tr>\n",
       "</table>\n",
       "<table class=\"simpletable\">\n",
       "<tr>\n",
       "  <th>Omnibus:</th>       <td>63.565</td> <th>  Durbin-Watson:     </th> <td>   2.002</td>\n",
       "</tr>\n",
       "<tr>\n",
       "  <th>Prob(Omnibus):</th> <td> 0.000</td> <th>  Jarque-Bera (JB):  </th> <td>  94.385</td>\n",
       "</tr>\n",
       "<tr>\n",
       "  <th>Skew:</th>          <td> 1.132</td> <th>  Prob(JB):          </th> <td>3.20e-21</td>\n",
       "</tr>\n",
       "<tr>\n",
       "  <th>Kurtosis:</th>      <td> 4.087</td> <th>  Cond. No.          </th> <td>    37.5</td>\n",
       "</tr>\n",
       "</table><br/><br/>Warnings:<br/>[1] Standard Errors assume that the covariance matrix of the errors is correctly specified."
      ],
      "text/plain": [
       "<class 'statsmodels.iolib.summary.Summary'>\n",
       "\"\"\"\n",
       "                            OLS Regression Results                            \n",
       "==============================================================================\n",
       "Dep. Variable:                 salary   R-squared:                       0.619\n",
       "Model:                            OLS   Adj. R-squared:                  0.615\n",
       "Method:                 Least Squares   F-statistic:                     192.0\n",
       "Date:                Fri, 21 Feb 2020   Prob (F-statistic):           5.59e-74\n",
       "Time:                        15:40:14   Log-Likelihood:                -3734.6\n",
       "No. Observations:                 359   AIC:                             7477.\n",
       "Df Residuals:                     355   BIC:                             7493.\n",
       "Df Model:                           3                                         \n",
       "Covariance Type:            nonrobust                                         \n",
       "====================================================================================\n",
       "                       coef    std err          t      P>|t|      [0.025      0.975]\n",
       "------------------------------------------------------------------------------------\n",
       "const             5.451e+04   1031.587     52.845      0.000    5.25e+04    5.65e+04\n",
       "yearsrank          699.3902     74.068      9.443      0.000     553.723     845.057\n",
       "position_Junior  -1.702e+04   1185.740    -14.352      0.000   -1.93e+04   -1.47e+04\n",
       "position_Manager -1.158e+04   1049.394    -11.033      0.000   -1.36e+04   -9514.423\n",
       "==============================================================================\n",
       "Omnibus:                       63.565   Durbin-Watson:                   2.002\n",
       "Prob(Omnibus):                  0.000   Jarque-Bera (JB):               94.385\n",
       "Skew:                           1.132   Prob(JB):                     3.20e-21\n",
       "Kurtosis:                       4.087   Cond. No.                         37.5\n",
       "==============================================================================\n",
       "\n",
       "Warnings:\n",
       "[1] Standard Errors assume that the covariance matrix of the errors is correctly specified.\n",
       "\"\"\""
      ]
     },
     "execution_count": 125,
     "metadata": {},
     "output_type": "execute_result"
    }
   ],
   "source": [
    "x_train3 = x_train1[['yearsrank','position_Junior','position_Manager']]\n",
    "x_train3 = sm.add_constant(x_train3)\n",
    "model = sm.OLS(y_train,x_train3).fit()\n",
    "model.summary()"
   ]
  },
  {
   "cell_type": "markdown",
   "metadata": {},
   "source": [
    "*There Rsquared value of this model is 0.488. Which tells that the model explains about 48% of th observed points.*\n",
    "\n",
    "\n",
    "*What we get from this model is that:*\n",
    " - For every 1 unit increase in yearsranked the employee salary will increase by 699.3902 dollars.\n",
    " - For a junior position the employee will earn less by 17020 dollars.\n",
    " - For manager position the employee will earn less by by 11580 dollars.\n",
    " - According to this model the lower the rank of your position the lower the employee salary.\n",
    " - For any employee the employee will earn atleast 54510 dollars.\n",
    "    "
   ]
  },
  {
   "cell_type": "code",
   "execution_count": 141,
   "metadata": {},
   "outputs": [
    {
     "ename": "KeyError",
     "evalue": "\"['const'] not found in axis\"",
     "output_type": "error",
     "traceback": [
      "\u001b[0;31m---------------------------------------------------------------------------\u001b[0m",
      "\u001b[0;31mKeyError\u001b[0m                                  Traceback (most recent call last)",
      "\u001b[0;32m<ipython-input-141-9357ee1ad3fb>\u001b[0m in \u001b[0;36m<module>\u001b[0;34m\u001b[0m\n\u001b[1;32m      1\u001b[0m \u001b[0;31m# Concatenate xtrain3 and ytrain\u001b[0m\u001b[0;34m\u001b[0m\u001b[0;34m\u001b[0m\u001b[0;34m\u001b[0m\u001b[0m\n\u001b[0;32m----> 2\u001b[0;31m \u001b[0mx_train3\u001b[0m \u001b[0;34m=\u001b[0m \u001b[0mx_train3\u001b[0m\u001b[0;34m.\u001b[0m\u001b[0mdrop\u001b[0m\u001b[0;34m(\u001b[0m\u001b[0;34m[\u001b[0m\u001b[0;34m\"const\"\u001b[0m\u001b[0;34m]\u001b[0m\u001b[0;34m,\u001b[0m \u001b[0maxis\u001b[0m \u001b[0;34m=\u001b[0m \u001b[0;36m1\u001b[0m\u001b[0;34m)\u001b[0m\u001b[0;34m\u001b[0m\u001b[0;34m\u001b[0m\u001b[0m\n\u001b[0m\u001b[1;32m      3\u001b[0m \u001b[0mdesired_data\u001b[0m \u001b[0;34m=\u001b[0m \u001b[0mpd\u001b[0m\u001b[0;34m.\u001b[0m\u001b[0mconcat\u001b[0m\u001b[0;34m(\u001b[0m\u001b[0;34m[\u001b[0m\u001b[0my_train\u001b[0m\u001b[0;34m,\u001b[0m \u001b[0mx_train3\u001b[0m\u001b[0;34m]\u001b[0m\u001b[0;34m,\u001b[0m \u001b[0maxis\u001b[0m \u001b[0;34m=\u001b[0m \u001b[0;36m1\u001b[0m\u001b[0;34m)\u001b[0m\u001b[0;34m\u001b[0m\u001b[0;34m\u001b[0m\u001b[0m\n\u001b[1;32m      4\u001b[0m \u001b[0mdesired_data\u001b[0m\u001b[0;34m\u001b[0m\u001b[0;34m\u001b[0m\u001b[0m\n",
      "\u001b[0;32m~/anaconda3/lib/python3.7/site-packages/pandas/core/frame.py\u001b[0m in \u001b[0;36mdrop\u001b[0;34m(self, labels, axis, index, columns, level, inplace, errors)\u001b[0m\n\u001b[1;32m   4100\u001b[0m             \u001b[0mlevel\u001b[0m\u001b[0;34m=\u001b[0m\u001b[0mlevel\u001b[0m\u001b[0;34m,\u001b[0m\u001b[0;34m\u001b[0m\u001b[0;34m\u001b[0m\u001b[0m\n\u001b[1;32m   4101\u001b[0m             \u001b[0minplace\u001b[0m\u001b[0;34m=\u001b[0m\u001b[0minplace\u001b[0m\u001b[0;34m,\u001b[0m\u001b[0;34m\u001b[0m\u001b[0;34m\u001b[0m\u001b[0m\n\u001b[0;32m-> 4102\u001b[0;31m             \u001b[0merrors\u001b[0m\u001b[0;34m=\u001b[0m\u001b[0merrors\u001b[0m\u001b[0;34m,\u001b[0m\u001b[0;34m\u001b[0m\u001b[0;34m\u001b[0m\u001b[0m\n\u001b[0m\u001b[1;32m   4103\u001b[0m         )\n\u001b[1;32m   4104\u001b[0m \u001b[0;34m\u001b[0m\u001b[0m\n",
      "\u001b[0;32m~/anaconda3/lib/python3.7/site-packages/pandas/core/generic.py\u001b[0m in \u001b[0;36mdrop\u001b[0;34m(self, labels, axis, index, columns, level, inplace, errors)\u001b[0m\n\u001b[1;32m   3912\u001b[0m         \u001b[0;32mfor\u001b[0m \u001b[0maxis\u001b[0m\u001b[0;34m,\u001b[0m \u001b[0mlabels\u001b[0m \u001b[0;32min\u001b[0m \u001b[0maxes\u001b[0m\u001b[0;34m.\u001b[0m\u001b[0mitems\u001b[0m\u001b[0;34m(\u001b[0m\u001b[0;34m)\u001b[0m\u001b[0;34m:\u001b[0m\u001b[0;34m\u001b[0m\u001b[0;34m\u001b[0m\u001b[0m\n\u001b[1;32m   3913\u001b[0m             \u001b[0;32mif\u001b[0m \u001b[0mlabels\u001b[0m \u001b[0;32mis\u001b[0m \u001b[0;32mnot\u001b[0m \u001b[0;32mNone\u001b[0m\u001b[0;34m:\u001b[0m\u001b[0;34m\u001b[0m\u001b[0;34m\u001b[0m\u001b[0m\n\u001b[0;32m-> 3914\u001b[0;31m                 \u001b[0mobj\u001b[0m \u001b[0;34m=\u001b[0m \u001b[0mobj\u001b[0m\u001b[0;34m.\u001b[0m\u001b[0m_drop_axis\u001b[0m\u001b[0;34m(\u001b[0m\u001b[0mlabels\u001b[0m\u001b[0;34m,\u001b[0m \u001b[0maxis\u001b[0m\u001b[0;34m,\u001b[0m \u001b[0mlevel\u001b[0m\u001b[0;34m=\u001b[0m\u001b[0mlevel\u001b[0m\u001b[0;34m,\u001b[0m \u001b[0merrors\u001b[0m\u001b[0;34m=\u001b[0m\u001b[0merrors\u001b[0m\u001b[0;34m)\u001b[0m\u001b[0;34m\u001b[0m\u001b[0;34m\u001b[0m\u001b[0m\n\u001b[0m\u001b[1;32m   3915\u001b[0m \u001b[0;34m\u001b[0m\u001b[0m\n\u001b[1;32m   3916\u001b[0m         \u001b[0;32mif\u001b[0m \u001b[0minplace\u001b[0m\u001b[0;34m:\u001b[0m\u001b[0;34m\u001b[0m\u001b[0;34m\u001b[0m\u001b[0m\n",
      "\u001b[0;32m~/anaconda3/lib/python3.7/site-packages/pandas/core/generic.py\u001b[0m in \u001b[0;36m_drop_axis\u001b[0;34m(self, labels, axis, level, errors)\u001b[0m\n\u001b[1;32m   3944\u001b[0m                 \u001b[0mnew_axis\u001b[0m \u001b[0;34m=\u001b[0m \u001b[0maxis\u001b[0m\u001b[0;34m.\u001b[0m\u001b[0mdrop\u001b[0m\u001b[0;34m(\u001b[0m\u001b[0mlabels\u001b[0m\u001b[0;34m,\u001b[0m \u001b[0mlevel\u001b[0m\u001b[0;34m=\u001b[0m\u001b[0mlevel\u001b[0m\u001b[0;34m,\u001b[0m \u001b[0merrors\u001b[0m\u001b[0;34m=\u001b[0m\u001b[0merrors\u001b[0m\u001b[0;34m)\u001b[0m\u001b[0;34m\u001b[0m\u001b[0;34m\u001b[0m\u001b[0m\n\u001b[1;32m   3945\u001b[0m             \u001b[0;32melse\u001b[0m\u001b[0;34m:\u001b[0m\u001b[0;34m\u001b[0m\u001b[0;34m\u001b[0m\u001b[0m\n\u001b[0;32m-> 3946\u001b[0;31m                 \u001b[0mnew_axis\u001b[0m \u001b[0;34m=\u001b[0m \u001b[0maxis\u001b[0m\u001b[0;34m.\u001b[0m\u001b[0mdrop\u001b[0m\u001b[0;34m(\u001b[0m\u001b[0mlabels\u001b[0m\u001b[0;34m,\u001b[0m \u001b[0merrors\u001b[0m\u001b[0;34m=\u001b[0m\u001b[0merrors\u001b[0m\u001b[0;34m)\u001b[0m\u001b[0;34m\u001b[0m\u001b[0;34m\u001b[0m\u001b[0m\n\u001b[0m\u001b[1;32m   3947\u001b[0m             \u001b[0mresult\u001b[0m \u001b[0;34m=\u001b[0m \u001b[0mself\u001b[0m\u001b[0;34m.\u001b[0m\u001b[0mreindex\u001b[0m\u001b[0;34m(\u001b[0m\u001b[0;34m**\u001b[0m\u001b[0;34m{\u001b[0m\u001b[0maxis_name\u001b[0m\u001b[0;34m:\u001b[0m \u001b[0mnew_axis\u001b[0m\u001b[0;34m}\u001b[0m\u001b[0;34m)\u001b[0m\u001b[0;34m\u001b[0m\u001b[0;34m\u001b[0m\u001b[0m\n\u001b[1;32m   3948\u001b[0m \u001b[0;34m\u001b[0m\u001b[0m\n",
      "\u001b[0;32m~/anaconda3/lib/python3.7/site-packages/pandas/core/indexes/base.py\u001b[0m in \u001b[0;36mdrop\u001b[0;34m(self, labels, errors)\u001b[0m\n\u001b[1;32m   5338\u001b[0m         \u001b[0;32mif\u001b[0m \u001b[0mmask\u001b[0m\u001b[0;34m.\u001b[0m\u001b[0many\u001b[0m\u001b[0;34m(\u001b[0m\u001b[0;34m)\u001b[0m\u001b[0;34m:\u001b[0m\u001b[0;34m\u001b[0m\u001b[0;34m\u001b[0m\u001b[0m\n\u001b[1;32m   5339\u001b[0m             \u001b[0;32mif\u001b[0m \u001b[0merrors\u001b[0m \u001b[0;34m!=\u001b[0m \u001b[0;34m\"ignore\"\u001b[0m\u001b[0;34m:\u001b[0m\u001b[0;34m\u001b[0m\u001b[0;34m\u001b[0m\u001b[0m\n\u001b[0;32m-> 5340\u001b[0;31m                 \u001b[0;32mraise\u001b[0m \u001b[0mKeyError\u001b[0m\u001b[0;34m(\u001b[0m\u001b[0;34m\"{} not found in axis\"\u001b[0m\u001b[0;34m.\u001b[0m\u001b[0mformat\u001b[0m\u001b[0;34m(\u001b[0m\u001b[0mlabels\u001b[0m\u001b[0;34m[\u001b[0m\u001b[0mmask\u001b[0m\u001b[0;34m]\u001b[0m\u001b[0;34m)\u001b[0m\u001b[0;34m)\u001b[0m\u001b[0;34m\u001b[0m\u001b[0;34m\u001b[0m\u001b[0m\n\u001b[0m\u001b[1;32m   5341\u001b[0m             \u001b[0mindexer\u001b[0m \u001b[0;34m=\u001b[0m \u001b[0mindexer\u001b[0m\u001b[0;34m[\u001b[0m\u001b[0;34m~\u001b[0m\u001b[0mmask\u001b[0m\u001b[0;34m]\u001b[0m\u001b[0;34m\u001b[0m\u001b[0;34m\u001b[0m\u001b[0m\n\u001b[1;32m   5342\u001b[0m         \u001b[0;32mreturn\u001b[0m \u001b[0mself\u001b[0m\u001b[0;34m.\u001b[0m\u001b[0mdelete\u001b[0m\u001b[0;34m(\u001b[0m\u001b[0mindexer\u001b[0m\u001b[0;34m)\u001b[0m\u001b[0;34m\u001b[0m\u001b[0;34m\u001b[0m\u001b[0m\n",
      "\u001b[0;31mKeyError\u001b[0m: \"['const'] not found in axis\""
     ]
    }
   ],
   "source": [
    "# Concatenate xtrain3 and ytrain\n",
    "x_train3 = x_train3.drop([\"const\"], axis = 1)\n",
    "desired_data = pd.concat([y_train, x_train3], axis = 1)\n",
    "desired_data"
   ]
  },
  {
   "cell_type": "code",
   "execution_count": 145,
   "metadata": {},
   "outputs": [
    {
     "data": {
      "text/plain": [
       "<matplotlib.axes._subplots.AxesSubplot at 0x7fb25c55f4d0>"
      ]
     },
     "execution_count": 145,
     "metadata": {},
     "output_type": "execute_result"
    },
    {
     "data": {
      "image/png": "[encoded data removed]",
      "text/plain": [
       "<Figure size 432x288 with 1 Axes>"
      ]
     },
     "metadata": {
      "needs_background": "light"
     },
     "output_type": "display_data"
    }
   ],
   "source": [
    "x = desired_data['yearsrank'] #,'position_Junior','position_Manager']\n",
    "y = desired_data['salary']\n",
    "\n",
    "sns.residplot(x, y, data = desired_data, lowess = True)"
   ]
  },
  {
   "cell_type": "code",
   "execution_count": null,
   "metadata": {},
   "outputs": [],
   "source": []
  }
 ],
 "metadata": {
  "kernelspec": {
   "display_name": "Python 3",
   "language": "python",
   "name": "python3"
  },
  "language_info": {
   "codemirror_mode": {
    "name": "ipython",
    "version": 3
   },
   "file_extension": ".py",
   "mimetype": "text/x-python",
   "name": "python",
   "nbconvert_exporter": "python",
   "pygments_lexer": "ipython3",
   "version": "3.7.4"
  }
 },
 "nbformat": 4,
 "nbformat_minor": 2
}
