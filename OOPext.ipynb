{
 "cells": [
  {
   "cell_type": "code",
   "execution_count": 1,
   "metadata": {},
   "outputs": [],
   "source": [
    "import pandas as pd\n",
    "import matplotlib.pyplot as plt\n",
    "import numpy as np\n",
    "import statsmodels.api as sm\n",
    "from ErrorCalculator import ErrorCalculator\n",
    "from Plotter import Plotter\n",
    "from ScatterPlotter import  ScatterPlotter"
   ]
  },
  {
   "cell_type": "code",
   "execution_count": 2,
   "metadata": {},
   "outputs": [
    {
     "data": {
      "text/html": [
       "<div>\n",
       "<style scoped>\n",
       "    .dataframe tbody tr th:only-of-type {\n",
       "        vertical-align: middle;\n",
       "    }\n",
       "\n",
       "    .dataframe tbody tr th {\n",
       "        vertical-align: top;\n",
       "    }\n",
       "\n",
       "    .dataframe thead th {\n",
       "        text-align: right;\n",
       "    }\n",
       "</style>\n",
       "<table border=\"1\" class=\"dataframe\">\n",
       "  <thead>\n",
       "    <tr style=\"text-align: right;\">\n",
       "      <th></th>\n",
       "      <th>Unnamed: 0</th>\n",
       "      <th>salary</th>\n",
       "      <th>exprior</th>\n",
       "      <th>yearsworked</th>\n",
       "      <th>yearsrank</th>\n",
       "      <th>market</th>\n",
       "      <th>yearsabs</th>\n",
       "      <th>degree_yes degree</th>\n",
       "      <th>otherqual_yes other qual</th>\n",
       "      <th>position_Junior</th>\n",
       "      <th>position_Manager</th>\n",
       "      <th>male_male</th>\n",
       "      <th>Field_Finance</th>\n",
       "      <th>Field_Human Resources</th>\n",
       "      <th>Field_Marketing</th>\n",
       "    </tr>\n",
       "  </thead>\n",
       "  <tbody>\n",
       "    <tr>\n",
       "      <td>0</td>\n",
       "      <td>419</td>\n",
       "      <td>34603.0</td>\n",
       "      <td>0</td>\n",
       "      <td>6</td>\n",
       "      <td>4</td>\n",
       "      <td>0.79</td>\n",
       "      <td>1</td>\n",
       "      <td>1</td>\n",
       "      <td>0</td>\n",
       "      <td>1</td>\n",
       "      <td>0</td>\n",
       "      <td>0</td>\n",
       "      <td>1</td>\n",
       "      <td>0</td>\n",
       "      <td>0</td>\n",
       "    </tr>\n",
       "    <tr>\n",
       "      <td>1</td>\n",
       "      <td>135</td>\n",
       "      <td>53543.0</td>\n",
       "      <td>9</td>\n",
       "      <td>4</td>\n",
       "      <td>4</td>\n",
       "      <td>1.17</td>\n",
       "      <td>1</td>\n",
       "      <td>1</td>\n",
       "      <td>0</td>\n",
       "      <td>0</td>\n",
       "      <td>1</td>\n",
       "      <td>1</td>\n",
       "      <td>0</td>\n",
       "      <td>0</td>\n",
       "      <td>0</td>\n",
       "    </tr>\n",
       "    <tr>\n",
       "      <td>2</td>\n",
       "      <td>386</td>\n",
       "      <td>33800.0</td>\n",
       "      <td>0</td>\n",
       "      <td>0</td>\n",
       "      <td>0</td>\n",
       "      <td>0.84</td>\n",
       "      <td>4</td>\n",
       "      <td>1</td>\n",
       "      <td>0</td>\n",
       "      <td>1</td>\n",
       "      <td>0</td>\n",
       "      <td>0</td>\n",
       "      <td>0</td>\n",
       "      <td>1</td>\n",
       "      <td>0</td>\n",
       "    </tr>\n",
       "    <tr>\n",
       "      <td>3</td>\n",
       "      <td>122</td>\n",
       "      <td>49667.0</td>\n",
       "      <td>0</td>\n",
       "      <td>12</td>\n",
       "      <td>4</td>\n",
       "      <td>0.88</td>\n",
       "      <td>0</td>\n",
       "      <td>1</td>\n",
       "      <td>0</td>\n",
       "      <td>0</td>\n",
       "      <td>1</td>\n",
       "      <td>1</td>\n",
       "      <td>1</td>\n",
       "      <td>0</td>\n",
       "      <td>0</td>\n",
       "    </tr>\n",
       "    <tr>\n",
       "      <td>4</td>\n",
       "      <td>22</td>\n",
       "      <td>34731.0</td>\n",
       "      <td>1</td>\n",
       "      <td>1</td>\n",
       "      <td>1</td>\n",
       "      <td>0.85</td>\n",
       "      <td>3</td>\n",
       "      <td>1</td>\n",
       "      <td>0</td>\n",
       "      <td>1</td>\n",
       "      <td>0</td>\n",
       "      <td>1</td>\n",
       "      <td>0</td>\n",
       "      <td>0</td>\n",
       "      <td>1</td>\n",
       "    </tr>\n",
       "  </tbody>\n",
       "</table>\n",
       "</div>"
      ],
      "text/plain": [
       "   Unnamed: 0   salary  exprior  yearsworked  yearsrank  market  yearsabs  \\\n",
       "0         419  34603.0        0            6          4    0.79         1   \n",
       "1         135  53543.0        9            4          4    1.17         1   \n",
       "2         386  33800.0        0            0          0    0.84         4   \n",
       "3         122  49667.0        0           12          4    0.88         0   \n",
       "4          22  34731.0        1            1          1    0.85         3   \n",
       "\n",
       "   degree_yes degree  otherqual_yes other qual  position_Junior  \\\n",
       "0                  1                         0                1   \n",
       "1                  1                         0                0   \n",
       "2                  1                         0                1   \n",
       "3                  1                         0                0   \n",
       "4                  1                         0                1   \n",
       "\n",
       "   position_Manager  male_male  Field_Finance  Field_Human Resources  \\\n",
       "0                 0          0              1                      0   \n",
       "1                 1          1              0                      0   \n",
       "2                 0          0              0                      1   \n",
       "3                 1          1              1                      0   \n",
       "4                 0          1              0                      0   \n",
       "\n",
       "   Field_Marketing  \n",
       "0                0  \n",
       "1                0  \n",
       "2                0  \n",
       "3                0  \n",
       "4                1  "
      ]
     },
     "execution_count": 2,
     "metadata": {},
     "output_type": "execute_result"
    }
   ],
   "source": [
    "train_data = pd.read_csv('train_data.csv')\n",
    "train_data.head()"
   ]
  },
  {
   "cell_type": "code",
   "execution_count": 3,
   "metadata": {},
   "outputs": [
    {
     "data": {
      "text/html": [
       "<div>\n",
       "<style scoped>\n",
       "    .dataframe tbody tr th:only-of-type {\n",
       "        vertical-align: middle;\n",
       "    }\n",
       "\n",
       "    .dataframe tbody tr th {\n",
       "        vertical-align: top;\n",
       "    }\n",
       "\n",
       "    .dataframe thead th {\n",
       "        text-align: right;\n",
       "    }\n",
       "</style>\n",
       "<table border=\"1\" class=\"dataframe\">\n",
       "  <thead>\n",
       "    <tr style=\"text-align: right;\">\n",
       "      <th></th>\n",
       "      <th>Unnamed: 0</th>\n",
       "      <th>salary</th>\n",
       "      <th>exprior</th>\n",
       "      <th>yearsworked</th>\n",
       "      <th>yearsrank</th>\n",
       "      <th>market</th>\n",
       "      <th>yearsabs</th>\n",
       "      <th>degree_yes degree</th>\n",
       "      <th>otherqual_yes other qual</th>\n",
       "      <th>position_Junior</th>\n",
       "      <th>position_Manager</th>\n",
       "      <th>male_male</th>\n",
       "      <th>Field_Finance</th>\n",
       "      <th>Field_Human Resources</th>\n",
       "      <th>Field_Marketing</th>\n",
       "    </tr>\n",
       "  </thead>\n",
       "  <tbody>\n",
       "    <tr>\n",
       "      <td>0</td>\n",
       "      <td>283</td>\n",
       "      <td>62091.0</td>\n",
       "      <td>0</td>\n",
       "      <td>23</td>\n",
       "      <td>14</td>\n",
       "      <td>1.13</td>\n",
       "      <td>0</td>\n",
       "      <td>1</td>\n",
       "      <td>0</td>\n",
       "      <td>0</td>\n",
       "      <td>0</td>\n",
       "      <td>1</td>\n",
       "      <td>0</td>\n",
       "      <td>0</td>\n",
       "      <td>0</td>\n",
       "    </tr>\n",
       "    <tr>\n",
       "      <td>1</td>\n",
       "      <td>100</td>\n",
       "      <td>42482.0</td>\n",
       "      <td>0</td>\n",
       "      <td>9</td>\n",
       "      <td>4</td>\n",
       "      <td>0.99</td>\n",
       "      <td>0</td>\n",
       "      <td>1</td>\n",
       "      <td>0</td>\n",
       "      <td>0</td>\n",
       "      <td>1</td>\n",
       "      <td>1</td>\n",
       "      <td>0</td>\n",
       "      <td>0</td>\n",
       "      <td>1</td>\n",
       "    </tr>\n",
       "    <tr>\n",
       "      <td>2</td>\n",
       "      <td>37</td>\n",
       "      <td>46292.0</td>\n",
       "      <td>1</td>\n",
       "      <td>2</td>\n",
       "      <td>2</td>\n",
       "      <td>1.14</td>\n",
       "      <td>0</td>\n",
       "      <td>1</td>\n",
       "      <td>0</td>\n",
       "      <td>1</td>\n",
       "      <td>0</td>\n",
       "      <td>1</td>\n",
       "      <td>1</td>\n",
       "      <td>0</td>\n",
       "      <td>0</td>\n",
       "    </tr>\n",
       "    <tr>\n",
       "      <td>3</td>\n",
       "      <td>46</td>\n",
       "      <td>59110.0</td>\n",
       "      <td>0</td>\n",
       "      <td>4</td>\n",
       "      <td>4</td>\n",
       "      <td>1.33</td>\n",
       "      <td>0</td>\n",
       "      <td>1</td>\n",
       "      <td>0</td>\n",
       "      <td>1</td>\n",
       "      <td>0</td>\n",
       "      <td>1</td>\n",
       "      <td>0</td>\n",
       "      <td>0</td>\n",
       "      <td>0</td>\n",
       "    </tr>\n",
       "    <tr>\n",
       "      <td>4</td>\n",
       "      <td>375</td>\n",
       "      <td>89789.0</td>\n",
       "      <td>11</td>\n",
       "      <td>22</td>\n",
       "      <td>21</td>\n",
       "      <td>0.93</td>\n",
       "      <td>2</td>\n",
       "      <td>1</td>\n",
       "      <td>0</td>\n",
       "      <td>0</td>\n",
       "      <td>0</td>\n",
       "      <td>1</td>\n",
       "      <td>1</td>\n",
       "      <td>0</td>\n",
       "      <td>0</td>\n",
       "    </tr>\n",
       "  </tbody>\n",
       "</table>\n",
       "</div>"
      ],
      "text/plain": [
       "   Unnamed: 0   salary  exprior  yearsworked  yearsrank  market  yearsabs  \\\n",
       "0         283  62091.0        0           23         14    1.13         0   \n",
       "1         100  42482.0        0            9          4    0.99         0   \n",
       "2          37  46292.0        1            2          2    1.14         0   \n",
       "3          46  59110.0        0            4          4    1.33         0   \n",
       "4         375  89789.0       11           22         21    0.93         2   \n",
       "\n",
       "   degree_yes degree  otherqual_yes other qual  position_Junior  \\\n",
       "0                  1                         0                0   \n",
       "1                  1                         0                0   \n",
       "2                  1                         0                1   \n",
       "3                  1                         0                1   \n",
       "4                  1                         0                0   \n",
       "\n",
       "   position_Manager  male_male  Field_Finance  Field_Human Resources  \\\n",
       "0                 0          1              0                      0   \n",
       "1                 1          1              0                      0   \n",
       "2                 0          1              1                      0   \n",
       "3                 0          1              0                      0   \n",
       "4                 0          1              1                      0   \n",
       "\n",
       "   Field_Marketing  \n",
       "0                0  \n",
       "1                1  \n",
       "2                0  \n",
       "3                0  \n",
       "4                0  "
      ]
     },
     "execution_count": 3,
     "metadata": {},
     "output_type": "execute_result"
    }
   ],
   "source": [
    "test_data = pd.read_csv('test_data.csv')\n",
    "test_data.head()"
   ]
  },
  {
   "cell_type": "markdown",
   "metadata": {},
   "source": [
    "## The distribution of salary"
   ]
  },
  {
   "cell_type": "code",
   "execution_count": 4,
   "metadata": {},
   "outputs": [
    {
     "data": {
      "text/plain": [
       "Text(0.5, 0, 'salary')"
      ]
     },
     "execution_count": 4,
     "metadata": {},
     "output_type": "execute_result"
    },
    {
     "data": {
      "image/png": "[encoded data removed]",
      "text/plain": [
       "<Figure size 576x360 with 1 Axes>"
      ]
     },
     "metadata": {
      "needs_background": "light"
     },
     "output_type": "display_data"
    }
   ],
   "source": [
    "train_data.hist('salary',figsize=(8,5))\n",
    "plt.title('Number of employees vs Salary earned',fontsize=16)\n",
    "plt.ylabel('Number of employees',fontsize=14)\n",
    "plt.xlabel(\"salary\",fontsize=14)"
   ]
  },
  {
   "cell_type": "markdown",
   "metadata": {},
   "source": [
    "## The distribution of log-transformed salary"
   ]
  },
  {
   "cell_type": "code",
   "execution_count": 5,
   "metadata": {},
   "outputs": [],
   "source": [
    "train_data['log_salary'] = np.log(train_data['salary'])\n",
    "test_data['log_salary'] =np.log(test_data['salary'])"
   ]
  },
  {
   "cell_type": "code",
   "execution_count": 6,
   "metadata": {},
   "outputs": [
    {
     "data": {
      "text/plain": [
       "Text(0.5, 0, 'salary')"
      ]
     },
     "execution_count": 6,
     "metadata": {},
     "output_type": "execute_result"
    },
    {
     "data": {
      "image/png": "[encoded data removed]",
      "text/plain": [
       "<Figure size 576x360 with 1 Axes>"
      ]
     },
     "metadata": {
      "needs_background": "light"
     },
     "output_type": "display_data"
    }
   ],
   "source": [
    "train_data.hist('log_salary',figsize=(8,5))\n",
    "plt.title('Number of employees vs Salary earned',fontsize=16)\n",
    "plt.ylabel('Number of employees',fontsize=14)\n",
    "plt.xlabel(\"salary\",fontsize=14)"
   ]
  },
  {
   "cell_type": "code",
   "execution_count": 7,
   "metadata": {},
   "outputs": [],
   "source": [
    "y_train = train_data['salary']\n",
    "y_test = test_data['salary']\n",
    "y_trainlog = train_data['log_salary']\n",
    "y_testlog = test_data['log_salary']\n",
    "train_datamodel1 = train_data[['yearsrank','position_Junior','position_Manager']]\n",
    "train_datamodel2 = train_data[['position_Junior','position_Manager']]"
   ]
  },
  {
   "cell_type": "code",
   "execution_count": 8,
   "metadata": {},
   "outputs": [
    {
     "name": "stderr",
     "output_type": "stream",
     "text": [
      "/home/olebogeng/anaconda3/lib/python3.7/site-packages/numpy/core/fromnumeric.py:2495: FutureWarning: Method .ptp is deprecated and will be removed in a future version. Use numpy.ptp instead.\n",
      "  return ptp(axis=axis, out=out, **kwargs)\n"
     ]
    }
   ],
   "source": [
    "train_datamodel1 = sm.add_constant(train_datamodel1)\n",
    "model = sm.OLS(y_train,train_datamodel1).fit()\n",
    "model.save('model.pickle')\n",
    "\n"
   ]
  },
  {
   "cell_type": "code",
   "execution_count": 9,
   "metadata": {},
   "outputs": [],
   "source": [
    "train_datamodel1 = sm.add_constant(train_datamodel1)\n",
    "model1 = sm.OLS(y_trainlog,train_datamodel1).fit()\n",
    "model1.save('model1.pickle')\n"
   ]
  },
  {
   "cell_type": "code",
   "execution_count": 10,
   "metadata": {},
   "outputs": [],
   "source": [
    "train_datamodel2 = sm.add_constant(train_datamodel2)\n",
    "model2 = sm.OLS(y_trainlog,train_datamodel2).fit()\n",
    "model2.save('model2.pickle')\n"
   ]
  },
  {
   "cell_type": "code",
   "execution_count": 11,
   "metadata": {},
   "outputs": [],
   "source": [
    "test_datamodel1 = test_data[['yearsrank','position_Junior','position_Manager']]\n",
    "test_datamodel1 = sm.add_constant(test_datamodel1)\n",
    "test_datamodel2 = test_data[['position_Junior','position_Manager']]\n",
    "test_datamodel2 = sm.add_constant(test_datamodel2)\n"
   ]
  },
  {
   "cell_type": "code",
   "execution_count": 12,
   "metadata": {},
   "outputs": [],
   "source": [
    "model_prediction  = model.predict(test_datamodel1)\n",
    "model1_prediction = model1.predict(test_datamodel1)\n",
    "model2_prediction = model2.predict(test_datamodel2)"
   ]
  },
  {
   "cell_type": "code",
   "execution_count": 13,
   "metadata": {},
   "outputs": [
    {
     "name": "stdout",
     "output_type": "stream",
     "text": [
      "The RMSE of model is: 8141.492924033082\n",
      "The RMSE of model1 is: 0.1624117451565314\n",
      "The RMSE of model1 is: 0.17478870720459333\n"
     ]
    }
   ],
   "source": [
    "modelError = ErrorCalculator(y_test,model_prediction)\n",
    "model1Error = ErrorCalculator(y_testlog,model1_prediction)\n",
    "model2Error = ErrorCalculator(y_testlog,model2_prediction)\n",
    "print('The RMSE of model is:',modelError.get_rmse())\n",
    "print('The RMSE of model1 is:',model1Error.get_rmse())\n",
    "print('The RMSE of model1 is:',model2Error.get_rmse())\n",
    "\n"
   ]
  },
  {
   "cell_type": "markdown",
   "metadata": {},
   "source": [
    "| Model name  | Description                                  | R-squared | Accuracy(RMSE)    |\n",
    "| ----------  | -------------------------------------------  | --------- |-------------------|\n",
    "| model      | Multivariate                                 | .619      |8141.492924033082  |\n",
    "| model1      | Multivariate with log-salary                 | .631      |0.1624117451565314 |\n",
    "| model2      | Removed  yearsrank from the features         | .548      |0.17478870720459333|"
   ]
  },
  {
   "cell_type": "markdown",
   "metadata": {},
   "source": [
    "The  log-transformed salary  model (model1) performes better than the initial model\n",
    "in which the target feature is not log transformed. When the feature  yearsrank  is removed the model \n",
    "(model2) perfomes worse which shows that it is indeed a significant feature."
   ]
  },
  {
   "cell_type": "markdown",
   "metadata": {},
   "source": [
    "## Checking normality of variance"
   ]
  },
  {
   "cell_type": "markdown",
   "metadata": {},
   "source": [
    "The Histogram of the Residual can be used to check whether the variance is normally distributed. A symmetric bell-shaped histogram which is evenly distributed around zero indicates that the normality assumption is likely to be true. If the histogram indicates that random error is not normally distributed, it suggests that the model's underlying assumptions may have been violated."
   ]
  },
  {
   "cell_type": "code",
   "execution_count": 14,
   "metadata": {},
   "outputs": [],
   "source": [
    "plottermodel = Plotter(y_test,model_prediction)\n",
    "plottermodel1 = Plotter(y_testlog,model1_prediction)\n",
    "plottermodel2 = Plotter(y_testlog,model2_prediction)"
   ]
  },
  {
   "cell_type": "code",
   "execution_count": 15,
   "metadata": {},
   "outputs": [
    {
     "data": {
      "image/png": "[encoded data removed]",
      "text/plain": [
       "<Figure size 432x288 with 1 Axes>"
      ]
     },
     "metadata": {
      "needs_background": "light"
     },
     "output_type": "display_data"
    },
    {
     "data": {
      "image/png": "[encoded data removed]",
      "text/plain": [
       "<Figure size 432x288 with 1 Axes>"
      ]
     },
     "metadata": {
      "needs_background": "light"
     },
     "output_type": "display_data"
    },
    {
     "data": {
      "image/png": "[encoded data removed]",
      "text/plain": [
       "<Figure size 432x288 with 1 Axes>"
      ]
     },
     "metadata": {
      "needs_background": "light"
     },
     "output_type": "display_data"
    }
   ],
   "source": [
    "plottermodel.run_calculations()\n",
    "plottermodel1.run_calculations()\n",
    "plottermodel2.run_calculations()\n",
    "plottermodel.plot()\n",
    "plottermodel1.plot()\n",
    "plottermodel2.plot()\n"
   ]
  },
  {
   "cell_type": "markdown",
   "metadata": {},
   "source": [
    "model2 is the one that is most approximately normally distributed\n",
    "which make it seem that it is the best model by far."
   ]
  },
  {
   "cell_type": "code",
   "execution_count": 16,
   "metadata": {},
   "outputs": [
    {
     "data": {
      "image/png": "[encoded data removed]",
      "text/plain": [
       "<Figure size 432x288 with 1 Axes>"
      ]
     },
     "metadata": {
      "needs_background": "light"
     },
     "output_type": "display_data"
    }
   ],
   "source": [
    "scatterplot =ScatterPlotter(y_test,model_prediction)\n",
    "scatterplot.plot() "
   ]
  },
  {
   "cell_type": "code",
   "execution_count": 17,
   "metadata": {},
   "outputs": [
    {
     "data": {
      "image/png": "[encoded data removed]",
      "text/plain": [
       "<Figure size 432x288 with 1 Axes>"
      ]
     },
     "metadata": {
      "needs_background": "light"
     },
     "output_type": "display_data"
    }
   ],
   "source": [
    "scatterplot1 = ScatterPlotter(y_testlog,model1_prediction)\n",
    "scatterplot1.plot()"
   ]
  },
  {
   "cell_type": "markdown",
   "metadata": {},
   "source": [
    "The scatterplot shows that residuals for model and model1 \n",
    "are more randomly scattered with no evident relationship."
   ]
  },
  {
   "cell_type": "code",
   "execution_count": 18,
   "metadata": {},
   "outputs": [
    {
     "data": {
      "image/png": "[encoded data removed]",
      "text/plain": [
       "<Figure size 432x288 with 1 Axes>"
      ]
     },
     "metadata": {
      "needs_background": "light"
     },
     "output_type": "display_data"
    }
   ],
   "source": [
    "scatterplot2 = ScatterPlotter(y_testlog,model2_prediction)\n",
    "scatterplot2.plot()"
   ]
  },
  {
   "cell_type": "markdown",
   "metadata": {},
   "source": [
    "When the variable yearsrank is removed only categorical features are \n",
    "left hence the above relationship depicted."
   ]
  },
  {
   "cell_type": "code",
   "execution_count": null,
   "metadata": {},
   "outputs": [],
   "source": []
  }
 ],
 "metadata": {
  "kernelspec": {
   "display_name": "Python 3",
   "language": "python",
   "name": "python3"
  },
  "language_info": {
   "codemirror_mode": {
    "name": "ipython",
    "version": 3
   },
   "file_extension": ".py",
   "mimetype": "text/x-python",
   "name": "python",
   "nbconvert_exporter": "python",
   "pygments_lexer": "ipython3",
   "version": "3.7.4"
  }
 },
 "nbformat": 4,
 "nbformat_minor": 2
}
