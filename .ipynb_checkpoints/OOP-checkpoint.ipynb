{
 "cells": [
  {
   "cell_type": "code",
   "execution_count": 2,
   "metadata": {},
   "outputs": [],
   "source": [
    "import pandas as pd\n",
    "import numpy as np\n",
    "import matplotlib.pyplot as plt\n",
    "from sklearn.model_selection import train_test_split\n",
    "import statsmodels.api as sm\n",
    "from sklearn.preprocessing import StandardScaler\n",
    "from sklearn.metrics import mean_squared_error\n",
    "from math import sqrt\n",
    "from statistics import mean,stdev"
   ]
  },
  {
   "cell_type": "code",
   "execution_count": 3,
   "metadata": {},
   "outputs": [],
   "source": [
    "data = pd.read_csv('salary.csv')\n",
    "data['salary'].fillna(data['salary'].mean(),inplace = True)\n",
    "data = data.drop_duplicates()"
   ]
  },
  {
   "cell_type": "markdown",
   "metadata": {},
   "source": [
    "##  Splitting Data"
   ]
  },
  {
   "cell_type": "code",
   "execution_count": 4,
   "metadata": {},
   "outputs": [],
   "source": [
    "y = data.salary\n",
    "x = data\n",
    "x_train,x_test,y_train,y_test = train_test_split(x,y,test_size=0.3,random_state=0)"
   ]
  },
  {
   "cell_type": "markdown",
   "metadata": {},
   "source": [
    "## Transforming data"
   ]
  },
  {
   "cell_type": "code",
   "execution_count": 5,
   "metadata": {},
   "outputs": [
    {
     "name": "stderr",
     "output_type": "stream",
     "text": [
      "/home/olebogeng/anaconda3/lib/python3.7/site-packages/ipykernel_launcher.py:2: SettingWithCopyWarning: \n",
      "A value is trying to be set on a copy of a slice from a DataFrame.\n",
      "Try using .loc[row_indexer,col_indexer] = value instead\n",
      "\n",
      "See the caveats in the documentation: http://pandas.pydata.org/pandas-docs/stable/user_guide/indexing.html#returning-a-view-versus-a-copy\n",
      "  \n",
      "/home/olebogeng/anaconda3/lib/python3.7/site-packages/ipykernel_launcher.py:4: SettingWithCopyWarning: \n",
      "A value is trying to be set on a copy of a slice from a DataFrame.\n",
      "Try using .loc[row_indexer,col_indexer] = value instead\n",
      "\n",
      "See the caveats in the documentation: http://pandas.pydata.org/pandas-docs/stable/user_guide/indexing.html#returning-a-view-versus-a-copy\n",
      "  after removing the cwd from sys.path.\n",
      "/home/olebogeng/anaconda3/lib/python3.7/site-packages/ipykernel_launcher.py:6: SettingWithCopyWarning: \n",
      "A value is trying to be set on a copy of a slice from a DataFrame.\n",
      "Try using .loc[row_indexer,col_indexer] = value instead\n",
      "\n",
      "See the caveats in the documentation: http://pandas.pydata.org/pandas-docs/stable/user_guide/indexing.html#returning-a-view-versus-a-copy\n",
      "  \n",
      "/home/olebogeng/anaconda3/lib/python3.7/site-packages/ipykernel_launcher.py:8: SettingWithCopyWarning: \n",
      "A value is trying to be set on a copy of a slice from a DataFrame.\n",
      "Try using .loc[row_indexer,col_indexer] = value instead\n",
      "\n",
      "See the caveats in the documentation: http://pandas.pydata.org/pandas-docs/stable/user_guide/indexing.html#returning-a-view-versus-a-copy\n",
      "  \n",
      "/home/olebogeng/anaconda3/lib/python3.7/site-packages/ipykernel_launcher.py:10: SettingWithCopyWarning: \n",
      "A value is trying to be set on a copy of a slice from a DataFrame.\n",
      "Try using .loc[row_indexer,col_indexer] = value instead\n",
      "\n",
      "See the caveats in the documentation: http://pandas.pydata.org/pandas-docs/stable/user_guide/indexing.html#returning-a-view-versus-a-copy\n",
      "  # Remove the CWD from sys.path while we load stuff.\n"
     ]
    }
   ],
   "source": [
    "dict1 = {1:'Engineering', 2:'Finance', 3:'Human Resources', 4:'Marketing'}\n",
    "x_train['Field'] = x_train.Field.map(dict1)\n",
    "dict2 ={0:'female', 1: 'male'}\n",
    "x_train['male'] =x_train.male.map(dict2)\n",
    "dict3={1:'Junior', 2:'Manager', 3:'Executive'}\n",
    "x_train['position']=x_train.position.map(dict3)\n",
    "dict4 ={0:'no other qual', 1:'yes other qual'}\n",
    "x_train['otherqual'] = x_train.otherqual.map(dict4)\n",
    "dict5 = {0:'no degree', 1:'yes degree'}\n",
    "x_train['degree']= x_train.degree.map(dict5)\n",
    "x_train1 = pd.get_dummies(x_train, prefix_sep='_', drop_first=True)"
   ]
  },
  {
   "cell_type": "code",
   "execution_count": 6,
   "metadata": {},
   "outputs": [
    {
     "name": "stderr",
     "output_type": "stream",
     "text": [
      "/home/olebogeng/anaconda3/lib/python3.7/site-packages/ipykernel_launcher.py:2: SettingWithCopyWarning: \n",
      "A value is trying to be set on a copy of a slice from a DataFrame.\n",
      "Try using .loc[row_indexer,col_indexer] = value instead\n",
      "\n",
      "See the caveats in the documentation: http://pandas.pydata.org/pandas-docs/stable/user_guide/indexing.html#returning-a-view-versus-a-copy\n",
      "  \n",
      "/home/olebogeng/anaconda3/lib/python3.7/site-packages/ipykernel_launcher.py:4: SettingWithCopyWarning: \n",
      "A value is trying to be set on a copy of a slice from a DataFrame.\n",
      "Try using .loc[row_indexer,col_indexer] = value instead\n",
      "\n",
      "See the caveats in the documentation: http://pandas.pydata.org/pandas-docs/stable/user_guide/indexing.html#returning-a-view-versus-a-copy\n",
      "  after removing the cwd from sys.path.\n",
      "/home/olebogeng/anaconda3/lib/python3.7/site-packages/ipykernel_launcher.py:6: SettingWithCopyWarning: \n",
      "A value is trying to be set on a copy of a slice from a DataFrame.\n",
      "Try using .loc[row_indexer,col_indexer] = value instead\n",
      "\n",
      "See the caveats in the documentation: http://pandas.pydata.org/pandas-docs/stable/user_guide/indexing.html#returning-a-view-versus-a-copy\n",
      "  \n",
      "/home/olebogeng/anaconda3/lib/python3.7/site-packages/ipykernel_launcher.py:8: SettingWithCopyWarning: \n",
      "A value is trying to be set on a copy of a slice from a DataFrame.\n",
      "Try using .loc[row_indexer,col_indexer] = value instead\n",
      "\n",
      "See the caveats in the documentation: http://pandas.pydata.org/pandas-docs/stable/user_guide/indexing.html#returning-a-view-versus-a-copy\n",
      "  \n",
      "/home/olebogeng/anaconda3/lib/python3.7/site-packages/ipykernel_launcher.py:10: SettingWithCopyWarning: \n",
      "A value is trying to be set on a copy of a slice from a DataFrame.\n",
      "Try using .loc[row_indexer,col_indexer] = value instead\n",
      "\n",
      "See the caveats in the documentation: http://pandas.pydata.org/pandas-docs/stable/user_guide/indexing.html#returning-a-view-versus-a-copy\n",
      "  # Remove the CWD from sys.path while we load stuff.\n"
     ]
    }
   ],
   "source": [
    "dict1 = {1:'Engineering', 2:'Finance', 3:'Human Resources', 4:'Marketing'}\n",
    "x_test['Field'] = x_test.Field.map(dict1)\n",
    "dict2 ={0:'female', 1: 'male'}\n",
    "x_test['male'] =x_test.male.map(dict2)\n",
    "dict3={1:'Junior', 2:'Manager', 3:'Executive'}\n",
    "x_test['position']=x_test.position.map(dict3)\n",
    "dict4 ={0:'no other qual', 1:'yes other qual'}\n",
    "x_test['otherqual'] = x_test.otherqual.map(dict4)\n",
    "dict5 = {0:'no degree', 1:'yes degree'}\n",
    "x_test['degree']= x_test.degree.map(dict5)\n",
    "x_test1 = pd.get_dummies(x_test, prefix_sep='_', drop_first=True)"
   ]
  },
  {
   "cell_type": "code",
   "execution_count": null,
   "metadata": {},
   "outputs": [],
   "source": []
  },
  {
   "cell_type": "markdown",
   "metadata": {},
   "source": [
    "## Histogram for unlogged salary"
   ]
  },
  {
   "cell_type": "code",
   "execution_count": 7,
   "metadata": {},
   "outputs": [
    {
     "data": {
      "text/plain": [
       "Text(0.5, 0, 'salary')"
      ]
     },
     "execution_count": 7,
     "metadata": {},
     "output_type": "execute_result"
    },
    {
     "data": {
      "image/png": "[encoded data removed]",
      "text/plain": [
       "<Figure size 576x360 with 1 Axes>"
      ]
     },
     "metadata": {
      "needs_background": "light"
     },
     "output_type": "display_data"
    }
   ],
   "source": [
    "x_train1.hist('salary',figsize=(8,5))\n",
    "plt.title('Number of employees vs Salary earned')\n",
    "plt.ylabel('Number of employees')\n",
    "plt.xlabel(\"salary\")"
   ]
  },
  {
   "cell_type": "markdown",
   "metadata": {},
   "source": [
    "The data is skewed to the right. With more employees earning between 37000 dollars and 43000 dollars."
   ]
  },
  {
   "cell_type": "markdown",
   "metadata": {},
   "source": [
    "## The Histogram of logged salary"
   ]
  },
  {
   "cell_type": "code",
   "execution_count": 7,
   "metadata": {
    "scrolled": false
   },
   "outputs": [
    {
     "data": {
      "text/plain": [
       "Text(0.5, 0, 'salary')"
      ]
     },
     "execution_count": 7,
     "metadata": {},
     "output_type": "execute_result"
    },
    {
     "data": {
      "image/png": "[encoded data removed]",
      "text/plain": [
       "<Figure size 576x360 with 1 Axes>"
      ]
     },
     "metadata": {
      "needs_background": "light"
     },
     "output_type": "display_data"
    }
   ],
   "source": [
    "x_train1['log_salary'] = np.log(x_train1['salary'])\n",
    "x_train1.hist('log_salary',figsize=(8,5))\n",
    "plt.title('Number of employees vs Salary earned')\n",
    "plt.ylabel('Number of employees')\n",
    "plt.xlabel(\"salary\")"
   ]
  },
  {
   "cell_type": "markdown",
   "metadata": {},
   "source": [
    "The dta is close to be normally distributed."
   ]
  },
  {
   "cell_type": "markdown",
   "metadata": {},
   "source": [
    "## Modelling the unlogged data"
   ]
  },
  {
   "cell_type": "code",
   "execution_count": 8,
   "metadata": {},
   "outputs": [
    {
     "name": "stderr",
     "output_type": "stream",
     "text": [
      "/home/olebogeng/anaconda3/lib/python3.7/site-packages/numpy/core/fromnumeric.py:2495: FutureWarning: Method .ptp is deprecated and will be removed in a future version. Use numpy.ptp instead.\n",
      "  return ptp(axis=axis, out=out, **kwargs)\n"
     ]
    },
    {
     "data": {
      "text/html": [
       "<table class=\"simpletable\">\n",
       "<caption>OLS Regression Results</caption>\n",
       "<tr>\n",
       "  <th>Dep. Variable:</th>         <td>salary</td>      <th>  R-squared:         </th> <td>   0.619</td>\n",
       "</tr>\n",
       "<tr>\n",
       "  <th>Model:</th>                   <td>OLS</td>       <th>  Adj. R-squared:    </th> <td>   0.615</td>\n",
       "</tr>\n",
       "<tr>\n",
       "  <th>Method:</th>             <td>Least Squares</td>  <th>  F-statistic:       </th> <td>   192.0</td>\n",
       "</tr>\n",
       "<tr>\n",
       "  <th>Date:</th>             <td>Wed, 04 Mar 2020</td> <th>  Prob (F-statistic):</th> <td>5.59e-74</td>\n",
       "</tr>\n",
       "<tr>\n",
       "  <th>Time:</th>                 <td>15:27:08</td>     <th>  Log-Likelihood:    </th> <td> -3734.6</td>\n",
       "</tr>\n",
       "<tr>\n",
       "  <th>No. Observations:</th>      <td>   359</td>      <th>  AIC:               </th> <td>   7477.</td>\n",
       "</tr>\n",
       "<tr>\n",
       "  <th>Df Residuals:</th>          <td>   355</td>      <th>  BIC:               </th> <td>   7493.</td>\n",
       "</tr>\n",
       "<tr>\n",
       "  <th>Df Model:</th>              <td>     3</td>      <th>                     </th>     <td> </td>   \n",
       "</tr>\n",
       "<tr>\n",
       "  <th>Covariance Type:</th>      <td>nonrobust</td>    <th>                     </th>     <td> </td>   \n",
       "</tr>\n",
       "</table>\n",
       "<table class=\"simpletable\">\n",
       "<tr>\n",
       "          <td></td>            <th>coef</th>     <th>std err</th>      <th>t</th>      <th>P>|t|</th>  <th>[0.025</th>    <th>0.975]</th>  \n",
       "</tr>\n",
       "<tr>\n",
       "  <th>const</th>            <td> 5.451e+04</td> <td> 1031.587</td> <td>   52.845</td> <td> 0.000</td> <td> 5.25e+04</td> <td> 5.65e+04</td>\n",
       "</tr>\n",
       "<tr>\n",
       "  <th>yearsrank</th>        <td>  699.3902</td> <td>   74.068</td> <td>    9.443</td> <td> 0.000</td> <td>  553.723</td> <td>  845.057</td>\n",
       "</tr>\n",
       "<tr>\n",
       "  <th>position_Junior</th>  <td>-1.702e+04</td> <td> 1185.740</td> <td>  -14.352</td> <td> 0.000</td> <td>-1.93e+04</td> <td>-1.47e+04</td>\n",
       "</tr>\n",
       "<tr>\n",
       "  <th>position_Manager</th> <td>-1.158e+04</td> <td> 1049.394</td> <td>  -11.033</td> <td> 0.000</td> <td>-1.36e+04</td> <td>-9514.423</td>\n",
       "</tr>\n",
       "</table>\n",
       "<table class=\"simpletable\">\n",
       "<tr>\n",
       "  <th>Omnibus:</th>       <td>63.565</td> <th>  Durbin-Watson:     </th> <td>   2.002</td>\n",
       "</tr>\n",
       "<tr>\n",
       "  <th>Prob(Omnibus):</th> <td> 0.000</td> <th>  Jarque-Bera (JB):  </th> <td>  94.385</td>\n",
       "</tr>\n",
       "<tr>\n",
       "  <th>Skew:</th>          <td> 1.132</td> <th>  Prob(JB):          </th> <td>3.20e-21</td>\n",
       "</tr>\n",
       "<tr>\n",
       "  <th>Kurtosis:</th>      <td> 4.087</td> <th>  Cond. No.          </th> <td>    37.5</td>\n",
       "</tr>\n",
       "</table><br/><br/>Warnings:<br/>[1] Standard Errors assume that the covariance matrix of the errors is correctly specified."
      ],
      "text/plain": [
       "<class 'statsmodels.iolib.summary.Summary'>\n",
       "\"\"\"\n",
       "                            OLS Regression Results                            \n",
       "==============================================================================\n",
       "Dep. Variable:                 salary   R-squared:                       0.619\n",
       "Model:                            OLS   Adj. R-squared:                  0.615\n",
       "Method:                 Least Squares   F-statistic:                     192.0\n",
       "Date:                Wed, 04 Mar 2020   Prob (F-statistic):           5.59e-74\n",
       "Time:                        15:27:08   Log-Likelihood:                -3734.6\n",
       "No. Observations:                 359   AIC:                             7477.\n",
       "Df Residuals:                     355   BIC:                             7493.\n",
       "Df Model:                           3                                         \n",
       "Covariance Type:            nonrobust                                         \n",
       "====================================================================================\n",
       "                       coef    std err          t      P>|t|      [0.025      0.975]\n",
       "------------------------------------------------------------------------------------\n",
       "const             5.451e+04   1031.587     52.845      0.000    5.25e+04    5.65e+04\n",
       "yearsrank          699.3902     74.068      9.443      0.000     553.723     845.057\n",
       "position_Junior  -1.702e+04   1185.740    -14.352      0.000   -1.93e+04   -1.47e+04\n",
       "position_Manager -1.158e+04   1049.394    -11.033      0.000   -1.36e+04   -9514.423\n",
       "==============================================================================\n",
       "Omnibus:                       63.565   Durbin-Watson:                   2.002\n",
       "Prob(Omnibus):                  0.000   Jarque-Bera (JB):               94.385\n",
       "Skew:                           1.132   Prob(JB):                     3.20e-21\n",
       "Kurtosis:                       4.087   Cond. No.                         37.5\n",
       "==============================================================================\n",
       "\n",
       "Warnings:\n",
       "[1] Standard Errors assume that the covariance matrix of the errors is correctly specified.\n",
       "\"\"\""
      ]
     },
     "execution_count": 8,
     "metadata": {},
     "output_type": "execute_result"
    }
   ],
   "source": [
    "x_train3 = x_train1[['yearsrank','position_Junior','position_Manager']]\n",
    "x_train3 = sm.add_constant(x_train3)\n",
    "model = sm.OLS(y_train,x_train3).fit()\n",
    "model.summary()"
   ]
  },
  {
   "cell_type": "markdown",
   "metadata": {},
   "source": [
    "## Modelling logged data (Model 1)"
   ]
  },
  {
   "cell_type": "code",
   "execution_count": 9,
   "metadata": {},
   "outputs": [],
   "source": [
    "y_train_log= np.log(y_train)\n",
    "\n",
    "x_train_model1 = x_train1[['yearsrank','position_Junior','position_Manager']]\n",
    "scaler = StandardScaler()\n",
    "scaler.fit(x_train_model1)\n",
    "x_train_log_model1  = scaler.transform(x_train_model1)\n"
   ]
  },
  {
   "cell_type": "code",
   "execution_count": 10,
   "metadata": {},
   "outputs": [],
   "source": [
    "x_train_log_model1 = pd.DataFrame({'yearsrank':x_train_log_model1[:,0],'position_Junior':x_train_log_model1[:,1],\n",
    "                                 'position_Manager':x_train_log_model1[:,2]})"
   ]
  },
  {
   "cell_type": "code",
   "execution_count": 11,
   "metadata": {},
   "outputs": [],
   "source": [
    "y_train_log = y_train_log.reset_index()['salary']"
   ]
  },
  {
   "cell_type": "code",
   "execution_count": 12,
   "metadata": {
    "scrolled": true
   },
   "outputs": [
    {
     "name": "stderr",
     "output_type": "stream",
     "text": [
      "/home/olebogeng/anaconda3/lib/python3.7/site-packages/numpy/core/fromnumeric.py:2495: FutureWarning: Method .ptp is deprecated and will be removed in a future version. Use numpy.ptp instead.\n",
      "  return ptp(axis=axis, out=out, **kwargs)\n"
     ]
    },
    {
     "data": {
      "text/html": [
       "<table class=\"simpletable\">\n",
       "<caption>OLS Regression Results</caption>\n",
       "<tr>\n",
       "  <th>Dep. Variable:</th>         <td>salary</td>      <th>  R-squared:         </th> <td>   0.631</td>\n",
       "</tr>\n",
       "<tr>\n",
       "  <th>Model:</th>                   <td>OLS</td>       <th>  Adj. R-squared:    </th> <td>   0.628</td>\n",
       "</tr>\n",
       "<tr>\n",
       "  <th>Method:</th>             <td>Least Squares</td>  <th>  F-statistic:       </th> <td>   202.3</td>\n",
       "</tr>\n",
       "<tr>\n",
       "  <th>Date:</th>             <td>Wed, 04 Mar 2020</td> <th>  Prob (F-statistic):</th> <td>1.75e-76</td>\n",
       "</tr>\n",
       "<tr>\n",
       "  <th>Time:</th>                 <td>15:27:09</td>     <th>  Log-Likelihood:    </th> <td>  164.62</td>\n",
       "</tr>\n",
       "<tr>\n",
       "  <th>No. Observations:</th>      <td>   359</td>      <th>  AIC:               </th> <td>  -321.2</td>\n",
       "</tr>\n",
       "<tr>\n",
       "  <th>Df Residuals:</th>          <td>   355</td>      <th>  BIC:               </th> <td>  -305.7</td>\n",
       "</tr>\n",
       "<tr>\n",
       "  <th>Df Model:</th>              <td>     3</td>      <th>                     </th>     <td> </td>   \n",
       "</tr>\n",
       "<tr>\n",
       "  <th>Covariance Type:</th>      <td>nonrobust</td>    <th>                     </th>     <td> </td>   \n",
       "</tr>\n",
       "</table>\n",
       "<table class=\"simpletable\">\n",
       "<tr>\n",
       "          <td></td>            <th>coef</th>     <th>std err</th>      <th>t</th>      <th>P>|t|</th>  <th>[0.025</th>    <th>0.975]</th>  \n",
       "</tr>\n",
       "<tr>\n",
       "  <th>const</th>            <td>   10.8099</td> <td>    0.008</td> <td> 1331.446</td> <td> 0.000</td> <td>   10.794</td> <td>   10.826</td>\n",
       "</tr>\n",
       "<tr>\n",
       "  <th>yearsrank</th>        <td>    0.0821</td> <td>    0.009</td> <td>    8.908</td> <td> 0.000</td> <td>    0.064</td> <td>    0.100</td>\n",
       "</tr>\n",
       "<tr>\n",
       "  <th>position_Junior</th>  <td>   -0.1589</td> <td>    0.010</td> <td>  -15.681</td> <td> 0.000</td> <td>   -0.179</td> <td>   -0.139</td>\n",
       "</tr>\n",
       "<tr>\n",
       "  <th>position_Manager</th> <td>   -0.1014</td> <td>    0.009</td> <td>  -10.746</td> <td> 0.000</td> <td>   -0.120</td> <td>   -0.083</td>\n",
       "</tr>\n",
       "</table>\n",
       "<table class=\"simpletable\">\n",
       "<tr>\n",
       "  <th>Omnibus:</th>       <td>41.544</td> <th>  Durbin-Watson:     </th> <td>   2.022</td>\n",
       "</tr>\n",
       "<tr>\n",
       "  <th>Prob(Omnibus):</th> <td> 0.000</td> <th>  Jarque-Bera (JB):  </th> <td>  52.521</td>\n",
       "</tr>\n",
       "<tr>\n",
       "  <th>Skew:</th>          <td> 0.905</td> <th>  Prob(JB):          </th> <td>3.94e-12</td>\n",
       "</tr>\n",
       "<tr>\n",
       "  <th>Kurtosis:</th>      <td> 3.487</td> <th>  Cond. No.          </th> <td>    2.00</td>\n",
       "</tr>\n",
       "</table><br/><br/>Warnings:<br/>[1] Standard Errors assume that the covariance matrix of the errors is correctly specified."
      ],
      "text/plain": [
       "<class 'statsmodels.iolib.summary.Summary'>\n",
       "\"\"\"\n",
       "                            OLS Regression Results                            \n",
       "==============================================================================\n",
       "Dep. Variable:                 salary   R-squared:                       0.631\n",
       "Model:                            OLS   Adj. R-squared:                  0.628\n",
       "Method:                 Least Squares   F-statistic:                     202.3\n",
       "Date:                Wed, 04 Mar 2020   Prob (F-statistic):           1.75e-76\n",
       "Time:                        15:27:09   Log-Likelihood:                 164.62\n",
       "No. Observations:                 359   AIC:                            -321.2\n",
       "Df Residuals:                     355   BIC:                            -305.7\n",
       "Df Model:                           3                                         \n",
       "Covariance Type:            nonrobust                                         \n",
       "====================================================================================\n",
       "                       coef    std err          t      P>|t|      [0.025      0.975]\n",
       "------------------------------------------------------------------------------------\n",
       "const               10.8099      0.008   1331.446      0.000      10.794      10.826\n",
       "yearsrank            0.0821      0.009      8.908      0.000       0.064       0.100\n",
       "position_Junior     -0.1589      0.010    -15.681      0.000      -0.179      -0.139\n",
       "position_Manager    -0.1014      0.009    -10.746      0.000      -0.120      -0.083\n",
       "==============================================================================\n",
       "Omnibus:                       41.544   Durbin-Watson:                   2.022\n",
       "Prob(Omnibus):                  0.000   Jarque-Bera (JB):               52.521\n",
       "Skew:                           0.905   Prob(JB):                     3.94e-12\n",
       "Kurtosis:                       3.487   Cond. No.                         2.00\n",
       "==============================================================================\n",
       "\n",
       "Warnings:\n",
       "[1] Standard Errors assume that the covariance matrix of the errors is correctly specified.\n",
       "\"\"\""
      ]
     },
     "execution_count": 12,
     "metadata": {},
     "output_type": "execute_result"
    }
   ],
   "source": [
    "x_train_log_model1  = sm.add_constant(x_train_log_model1 )\n",
    "model1 = sm.OLS(y_train_log,x_train_log_model1 ).fit()\n",
    "model1.summary()\n"
   ]
  },
  {
   "cell_type": "markdown",
   "metadata": {},
   "source": [
    "## Unlogged vs. Logged "
   ]
  },
  {
   "cell_type": "markdown",
   "metadata": {},
   "source": [
    "In this case,we have a slightly better R2 when we do a log transformation."
   ]
  },
  {
   "cell_type": "markdown",
   "metadata": {},
   "source": [
    "## Modelling logged data (Model 2)"
   ]
  },
  {
   "cell_type": "markdown",
   "metadata": {},
   "source": [
    "Removing the yearsrank feature"
   ]
  },
  {
   "cell_type": "code",
   "execution_count": 13,
   "metadata": {},
   "outputs": [],
   "source": [
    "x_train_log_model2= x_train_log_model1.drop('yearsrank',axis=1)"
   ]
  },
  {
   "cell_type": "code",
   "execution_count": 14,
   "metadata": {},
   "outputs": [
    {
     "data": {
      "text/html": [
       "<table class=\"simpletable\">\n",
       "<caption>OLS Regression Results</caption>\n",
       "<tr>\n",
       "  <th>Dep. Variable:</th>         <td>salary</td>      <th>  R-squared:         </th> <td>   0.548</td>\n",
       "</tr>\n",
       "<tr>\n",
       "  <th>Model:</th>                   <td>OLS</td>       <th>  Adj. R-squared:    </th> <td>   0.546</td>\n",
       "</tr>\n",
       "<tr>\n",
       "  <th>Method:</th>             <td>Least Squares</td>  <th>  F-statistic:       </th> <td>   216.2</td>\n",
       "</tr>\n",
       "<tr>\n",
       "  <th>Date:</th>             <td>Wed, 04 Mar 2020</td> <th>  Prob (F-statistic):</th> <td>3.49e-62</td>\n",
       "</tr>\n",
       "<tr>\n",
       "  <th>Time:</th>                 <td>15:27:09</td>     <th>  Log-Likelihood:    </th> <td>  128.41</td>\n",
       "</tr>\n",
       "<tr>\n",
       "  <th>No. Observations:</th>      <td>   359</td>      <th>  AIC:               </th> <td>  -250.8</td>\n",
       "</tr>\n",
       "<tr>\n",
       "  <th>Df Residuals:</th>          <td>   356</td>      <th>  BIC:               </th> <td>  -239.2</td>\n",
       "</tr>\n",
       "<tr>\n",
       "  <th>Df Model:</th>              <td>     2</td>      <th>                     </th>     <td> </td>   \n",
       "</tr>\n",
       "<tr>\n",
       "  <th>Covariance Type:</th>      <td>nonrobust</td>    <th>                     </th>     <td> </td>   \n",
       "</tr>\n",
       "</table>\n",
       "<table class=\"simpletable\">\n",
       "<tr>\n",
       "          <td></td>            <th>coef</th>     <th>std err</th>      <th>t</th>      <th>P>|t|</th>  <th>[0.025</th>    <th>0.975]</th>  \n",
       "</tr>\n",
       "<tr>\n",
       "  <th>const</th>            <td>   10.8099</td> <td>    0.009</td> <td> 1205.396</td> <td> 0.000</td> <td>   10.792</td> <td>   10.828</td>\n",
       "</tr>\n",
       "<tr>\n",
       "  <th>position_Junior</th>  <td>   -0.2009</td> <td>    0.010</td> <td>  -20.263</td> <td> 0.000</td> <td>   -0.220</td> <td>   -0.181</td>\n",
       "</tr>\n",
       "<tr>\n",
       "  <th>position_Manager</th> <td>   -0.1274</td> <td>    0.010</td> <td>  -12.851</td> <td> 0.000</td> <td>   -0.147</td> <td>   -0.108</td>\n",
       "</tr>\n",
       "</table>\n",
       "<table class=\"simpletable\">\n",
       "<tr>\n",
       "  <th>Omnibus:</th>       <td>17.183</td> <th>  Durbin-Watson:     </th> <td>   1.973</td>\n",
       "</tr>\n",
       "<tr>\n",
       "  <th>Prob(Omnibus):</th> <td> 0.000</td> <th>  Jarque-Bera (JB):  </th> <td>  18.855</td>\n",
       "</tr>\n",
       "<tr>\n",
       "  <th>Skew:</th>          <td> 0.560</td> <th>  Prob(JB):          </th> <td>8.05e-05</td>\n",
       "</tr>\n",
       "<tr>\n",
       "  <th>Kurtosis:</th>      <td> 2.910</td> <th>  Cond. No.          </th> <td>    1.58</td>\n",
       "</tr>\n",
       "</table><br/><br/>Warnings:<br/>[1] Standard Errors assume that the covariance matrix of the errors is correctly specified."
      ],
      "text/plain": [
       "<class 'statsmodels.iolib.summary.Summary'>\n",
       "\"\"\"\n",
       "                            OLS Regression Results                            \n",
       "==============================================================================\n",
       "Dep. Variable:                 salary   R-squared:                       0.548\n",
       "Model:                            OLS   Adj. R-squared:                  0.546\n",
       "Method:                 Least Squares   F-statistic:                     216.2\n",
       "Date:                Wed, 04 Mar 2020   Prob (F-statistic):           3.49e-62\n",
       "Time:                        15:27:09   Log-Likelihood:                 128.41\n",
       "No. Observations:                 359   AIC:                            -250.8\n",
       "Df Residuals:                     356   BIC:                            -239.2\n",
       "Df Model:                           2                                         \n",
       "Covariance Type:            nonrobust                                         \n",
       "====================================================================================\n",
       "                       coef    std err          t      P>|t|      [0.025      0.975]\n",
       "------------------------------------------------------------------------------------\n",
       "const               10.8099      0.009   1205.396      0.000      10.792      10.828\n",
       "position_Junior     -0.2009      0.010    -20.263      0.000      -0.220      -0.181\n",
       "position_Manager    -0.1274      0.010    -12.851      0.000      -0.147      -0.108\n",
       "==============================================================================\n",
       "Omnibus:                       17.183   Durbin-Watson:                   1.973\n",
       "Prob(Omnibus):                  0.000   Jarque-Bera (JB):               18.855\n",
       "Skew:                           0.560   Prob(JB):                     8.05e-05\n",
       "Kurtosis:                       2.910   Cond. No.                         1.58\n",
       "==============================================================================\n",
       "\n",
       "Warnings:\n",
       "[1] Standard Errors assume that the covariance matrix of the errors is correctly specified.\n",
       "\"\"\""
      ]
     },
     "execution_count": 14,
     "metadata": {},
     "output_type": "execute_result"
    }
   ],
   "source": [
    "model2 = sm.OLS(y_train_log,x_train_log_model2).fit()\n",
    "model2.summary()"
   ]
  },
  {
   "cell_type": "markdown",
   "metadata": {},
   "source": [
    "## Model1 vs Model2"
   ]
  },
  {
   "cell_type": "markdown",
   "metadata": {},
   "source": [
    "Removing the yearsrank feature makes the model perform worse"
   ]
  },
  {
   "cell_type": "markdown",
   "metadata": {},
   "source": [
    "## Predictions"
   ]
  },
  {
   "cell_type": "code",
   "execution_count": 30,
   "metadata": {},
   "outputs": [],
   "source": [
    "y_test_log= np.log(y_test)\n",
    "y_test_log = y_test_log.reset_index()['salary']"
   ]
  },
  {
   "cell_type": "code",
   "execution_count": 33,
   "metadata": {},
   "outputs": [
    {
     "name": "stdout",
     "output_type": "stream",
     "text": [
      "StandardScaler(copy=True, with_mean=True, with_std=True)\n"
     ]
    },
    {
     "name": "stderr",
     "output_type": "stream",
     "text": [
      "/home/olebogeng/anaconda3/lib/python3.7/site-packages/numpy/core/fromnumeric.py:2495: FutureWarning: Method .ptp is deprecated and will be removed in a future version. Use numpy.ptp instead.\n",
      "  return ptp(axis=axis, out=out, **kwargs)\n"
     ]
    }
   ],
   "source": [
    "x_test_normal1 = x_test1[['yearsrank','position_Junior','position_Manager']]\n",
    "scaler = StandardScaler()\n",
    "print(scaler.fit(x_test_normal1))\n",
    "\n",
    "x_test_log1 = scaler.transform(x_test_normal1)\n",
    "x_test_log1 = sm.add_constant(x_test_normal1)"
   ]
  },
  {
   "cell_type": "code",
   "execution_count": 34,
   "metadata": {},
   "outputs": [],
   "source": [
    "x_test_log2 = x_test_log1.drop('yearsrank',axis=1)"
   ]
  },
  {
   "cell_type": "code",
   "execution_count": 35,
   "metadata": {},
   "outputs": [],
   "source": [
    "salary_prediction1 = model1.predict(x_test_log1)\n",
    "salary_prediction2 = model2.predict(x_test_log2)\n"
   ]
  },
  {
   "cell_type": "code",
   "execution_count": 48,
   "metadata": {},
   "outputs": [
    {
     "name": "stdout",
     "output_type": "stream",
     "text": [
      "The RMSE of model1 is: 0.6627281543159133\n",
      "The RMSE of model2 is: 0.20912838778611473\n"
     ]
    }
   ],
   "source": [
    "class ErrorCalculator:\n",
    "    def __init__(self,y,y_predict):\n",
    "        self.y = y\n",
    "        self.y_predict = y_predict\n",
    "        \n",
    "    \n",
    "    def get_residuals(self):\n",
    "        residual = self.y.values - self.y_predict\n",
    "        return residual\n",
    "        \n",
    "    def get_standardised_residuals(self):\n",
    "        resid = self.get_residuals()\n",
    "        residual_std = resid.std()\n",
    "        standardised_residual =  resid/residual_std\n",
    "        return standardised_residual\n",
    "    \n",
    "    def get_mse(self):\n",
    "        mse = mean_squared_error(self.y,self.y_predict)\n",
    "        return mse\n",
    "    \n",
    "    def get_rmse(self):\n",
    "        mse = self.get_mse()\n",
    "        RMSE = sqrt(mse)\n",
    "        return RMSE\n",
    "        \n",
    "        \n",
    "p1 = ErrorCalculator(y_test_log,salary_prediction1)\n",
    "p2 = ErrorCalculator(y_test_log,salary_prediction2)\n",
    "p1.get_residuals()\n",
    "p1.get_standardised_residuals()\n",
    "# print(p1.get_mse())\n",
    "print('The RMSE of model1 is:',p1.get_rmse())\n",
    "# p2.get_residuals()\n",
    "# p2.get_standardised_residuals()\n",
    "# p2.get_mse()\n",
    "print('The RMSE of model2 is:',p2.get_rmse())"
   ]
  },
  {
   "cell_type": "markdown",
   "metadata": {},
   "source": [
    "Model 2 has a smaller squared mean error than Model 1. We can say that the feature 'yearsrank' is a significant feature as the model performs worse when it is not included."
   ]
  },
  {
   "cell_type": "code",
   "execution_count": 57,
   "metadata": {},
   "outputs": [],
   "source": [
    "class Plotter:\n",
    "    def __init__(self,y,y_predict):\n",
    "        self.y = y\n",
    "        self.y_predict = y_predict\n",
    "        \n",
    "        \n",
    "    def run_calculations(self):\n",
    "        residual = self.y.values - self.y_predict\n",
    "        return residual\n",
    "        \n",
    "        \n",
    "        \n",
    "    def plot(self):\n",
    "        resid = self.run_calculations()    \n",
    "        #print(resid)\n",
    "        \n",
    "        plt.hist(resid)\n",
    "        plt.title('The Residuals histogram plot')\n",
    "        plt.ylabel('Distribution')\n",
    "        plt.show()"
   ]
  },
  {
   "cell_type": "code",
   "execution_count": 59,
   "metadata": {},
   "outputs": [
    {
     "data": {
      "image/png": "[encoded data removed]",
      "text/plain": [
       "<Figure size 432x288 with 1 Axes>"
      ]
     },
     "metadata": {
      "needs_background": "light"
     },
     "output_type": "display_data"
    },
    {
     "data": {
      "image/png": "[encoded data removed]",
      "text/plain": [
       "<Figure size 432x288 with 1 Axes>"
      ]
     },
     "metadata": {
      "needs_background": "light"
     },
     "output_type": "display_data"
    }
   ],
   "source": [
    "class HistogramPlotter(Plotter):\n",
    "    pass\n",
    "\n",
    "graph1=  Plotter(y_test_log,salary_prediction1)\n",
    "graph2=  Plotter(y_test_log,salary_prediction2)\n",
    "graph1.run_calculations()\n",
    "graph2.run_calculations()\n",
    "graph1.plot()\n",
    "graph2.plot()"
   ]
  },
  {
   "cell_type": "markdown",
   "metadata": {},
   "source": [
    "The histogram for residuals for model1 is almost evenly distributed than model2 compared."
   ]
  },
  {
   "cell_type": "code",
   "execution_count": 56,
   "metadata": {},
   "outputs": [
    {
     "data": {
      "image/png": "[encoded data removed]",
      "text/plain": [
       "<Figure size 432x288 with 1 Axes>"
      ]
     },
     "metadata": {
      "needs_background": "light"
     },
     "output_type": "display_data"
    }
   ],
   "source": [
    "class ScatterPlotter(Plotter):\n",
    "    def __init__(self,y,y_prediction,residual = None):\n",
    "        super().__init__(y,y_prediction)\n",
    "        self.residual = residual\n",
    "    \n",
    "    def plot(self):\n",
    "        if self.residual is None:\n",
    "            self.residual = self.run_calculations() \n",
    "        plt.scatter(self.y,self.y_predict)\n",
    "    \n",
    "        \n",
    "        \n",
    "scatterplot1 = ScatterPlotter(y_test_log,salary_prediction1)\n",
    "scatterplot2 = ScatterPlotter(y_test_log,salary_prediction2)\n",
    "scatterplot1.plot() \n",
    "scatterplot2.plot()"
   ]
  },
  {
   "cell_type": "markdown",
   "metadata": {},
   "source": [
    "The scatterplot shows that residuals for model1 are more randomly scattered than model2 compared."
   ]
  },
  {
   "cell_type": "markdown",
   "metadata": {},
   "source": [
    "*Looking at the RMSE results, Residuals Histogram, and Residuals Scatter plot, \n",
    "we can say that model1 performs better than model2.*"
   ]
  },
  {
   "cell_type": "code",
   "execution_count": null,
   "metadata": {},
   "outputs": [],
   "source": []
  }
 ],
 "metadata": {
  "kernelspec": {
   "display_name": "Python 3",
   "language": "python",
   "name": "python3"
  },
  "language_info": {
   "codemirror_mode": {
    "name": "ipython",
    "version": 3
   },
   "file_extension": ".py",
   "mimetype": "text/x-python",
   "name": "python",
   "nbconvert_exporter": "python",
   "pygments_lexer": "ipython3",
   "version": "3.7.4"
  }
 },
 "nbformat": 4,
 "nbformat_minor": 2
}
